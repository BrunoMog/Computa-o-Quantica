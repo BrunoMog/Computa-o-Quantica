{
  "cells": [
    {
      "cell_type": "markdown",
      "metadata": {
        "id": "view-in-github",
        "colab_type": "text"
      },
      "source": [
        "<a href=\"https://colab.research.google.com/github/BrunoMog/Computa-o-Quantica/blob/main/Expressibility_and_Entanglement_Capability_of_the_Parameterized_Quantum_Circuits_Bruno.ipynb\" target=\"_parent\"><img src=\"https://colab.research.google.com/assets/colab-badge.svg\" alt=\"Open In Colab\"/></a>"
      ]
    },
    {
      "cell_type": "markdown",
      "metadata": {
        "id": "f1Ov47sYsjTV"
      },
      "source": [
        "https://obliviateandsurrender.github.io/blogs/expr.html"
      ]
    },
    {
      "cell_type": "code",
      "execution_count": null,
      "metadata": {
        "colab": {
          "base_uri": "https://localhost:8080/"
        },
        "id": "EUl1svDkUIym",
        "outputId": "b538a996-a832-4071-83f9-d86f32fe8545"
      },
      "outputs": [
        {
          "output_type": "stream",
          "name": "stdout",
          "text": [
            "Requirement already satisfied: sympy in /usr/local/lib/python3.11/dist-packages (1.13.1)\n",
            "Requirement already satisfied: mpmath<1.4,>=1.1.0 in /usr/local/lib/python3.11/dist-packages (from sympy) (1.3.0)\n"
          ]
        }
      ],
      "source": [
        "%pip install sympy"
      ]
    },
    {
      "cell_type": "code",
      "source": [
        "!pip install pylatexenc"
      ],
      "metadata": {
        "id": "7w3wwazooi3a",
        "colab": {
          "base_uri": "https://localhost:8080/"
        },
        "outputId": "3a5ec12b-10e6-44cb-dd88-d0be3e692de3"
      },
      "execution_count": null,
      "outputs": [
        {
          "output_type": "stream",
          "name": "stdout",
          "text": [
            "Collecting pylatexenc\n",
            "  Downloading pylatexenc-2.10.tar.gz (162 kB)\n",
            "\u001b[?25l     \u001b[90m━━━━━━━━━━━━━━━━━━━━━━━━━━━━━━━━━━━━━━━━\u001b[0m \u001b[32m0.0/162.6 kB\u001b[0m \u001b[31m?\u001b[0m eta \u001b[36m-:--:--\u001b[0m\r\u001b[2K     \u001b[91m━━━━━━━━━━━━━━━━━━━━━━━━━━━━━━━━━━━━━\u001b[0m\u001b[91m╸\u001b[0m\u001b[90m━━\u001b[0m \u001b[32m153.6/162.6 kB\u001b[0m \u001b[31m8.6 MB/s\u001b[0m eta \u001b[36m0:00:01\u001b[0m\r\u001b[2K     \u001b[90m━━━━━━━━━━━━━━━━━━━━━━━━━━━━━━━━━━━━━━━━\u001b[0m \u001b[32m162.6/162.6 kB\u001b[0m \u001b[31m3.9 MB/s\u001b[0m eta \u001b[36m0:00:00\u001b[0m\n",
            "\u001b[?25h  Preparing metadata (setup.py) ... \u001b[?25l\u001b[?25hdone\n",
            "Building wheels for collected packages: pylatexenc\n",
            "  Building wheel for pylatexenc (setup.py) ... \u001b[?25l\u001b[?25hdone\n",
            "  Created wheel for pylatexenc: filename=pylatexenc-2.10-py3-none-any.whl size=136816 sha256=5605034658f201887df325a0f443f04dd73c9b42ebfc843eca2741770a799e6a\n",
            "  Stored in directory: /root/.cache/pip/wheels/b1/7a/33/9fdd892f784ed4afda62b685ae3703adf4c91aa0f524c28f03\n",
            "Successfully built pylatexenc\n",
            "Installing collected packages: pylatexenc\n",
            "Successfully installed pylatexenc-2.10\n"
          ]
        }
      ]
    },
    {
      "cell_type": "code",
      "execution_count": null,
      "metadata": {
        "id": "uTnL-H_Us6E2",
        "colab": {
          "base_uri": "https://localhost:8080/"
        },
        "outputId": "7b64c78c-f3f5-49a5-c683-430a5e49f2ee"
      },
      "outputs": [
        {
          "output_type": "stream",
          "name": "stdout",
          "text": [
            "Collecting qiskit==0.46.3\n",
            "  Downloading qiskit-0.46.3-py3-none-any.whl.metadata (12 kB)\n",
            "Collecting qiskit-terra==0.46.3 (from qiskit==0.46.3)\n",
            "  Downloading qiskit_terra-0.46.3-cp38-abi3-manylinux_2_17_x86_64.manylinux2014_x86_64.whl.metadata (13 kB)\n",
            "Collecting rustworkx>=0.13.0 (from qiskit-terra==0.46.3->qiskit==0.46.3)\n",
            "  Downloading rustworkx-0.16.0-cp39-abi3-manylinux_2_17_x86_64.manylinux2014_x86_64.whl.metadata (10 kB)\n",
            "Requirement already satisfied: numpy<3,>=1.17 in /usr/local/lib/python3.11/dist-packages (from qiskit-terra==0.46.3->qiskit==0.46.3) (2.0.2)\n",
            "Requirement already satisfied: ply>=3.10 in /usr/local/lib/python3.11/dist-packages (from qiskit-terra==0.46.3->qiskit==0.46.3) (3.11)\n",
            "Requirement already satisfied: psutil>=5 in /usr/local/lib/python3.11/dist-packages (from qiskit-terra==0.46.3->qiskit==0.46.3) (5.9.5)\n",
            "Requirement already satisfied: scipy>=1.5 in /usr/local/lib/python3.11/dist-packages (from qiskit-terra==0.46.3->qiskit==0.46.3) (1.14.1)\n",
            "Requirement already satisfied: sympy>=1.3 in /usr/local/lib/python3.11/dist-packages (from qiskit-terra==0.46.3->qiskit==0.46.3) (1.13.1)\n",
            "Collecting dill>=0.3 (from qiskit-terra==0.46.3->qiskit==0.46.3)\n",
            "  Downloading dill-0.3.9-py3-none-any.whl.metadata (10 kB)\n",
            "Requirement already satisfied: python-dateutil>=2.8.0 in /usr/local/lib/python3.11/dist-packages (from qiskit-terra==0.46.3->qiskit==0.46.3) (2.8.2)\n",
            "Collecting stevedore>=3.0.0 (from qiskit-terra==0.46.3->qiskit==0.46.3)\n",
            "  Downloading stevedore-5.4.1-py3-none-any.whl.metadata (2.3 kB)\n",
            "Collecting symengine>=0.11 (from qiskit-terra==0.46.3->qiskit==0.46.3)\n",
            "  Downloading symengine-0.14.0-cp311-cp311-manylinux_2_17_x86_64.manylinux2014_x86_64.whl.metadata (1.3 kB)\n",
            "Requirement already satisfied: six>=1.5 in /usr/local/lib/python3.11/dist-packages (from python-dateutil>=2.8.0->qiskit-terra==0.46.3->qiskit==0.46.3) (1.17.0)\n",
            "Collecting pbr>=2.0.0 (from stevedore>=3.0.0->qiskit-terra==0.46.3->qiskit==0.46.3)\n",
            "  Downloading pbr-6.1.1-py2.py3-none-any.whl.metadata (3.4 kB)\n",
            "Requirement already satisfied: mpmath<1.4,>=1.1.0 in /usr/local/lib/python3.11/dist-packages (from sympy>=1.3->qiskit-terra==0.46.3->qiskit==0.46.3) (1.3.0)\n",
            "Requirement already satisfied: setuptools in /usr/local/lib/python3.11/dist-packages (from pbr>=2.0.0->stevedore>=3.0.0->qiskit-terra==0.46.3->qiskit==0.46.3) (75.1.0)\n",
            "Downloading qiskit-0.46.3-py3-none-any.whl (10.0 kB)\n",
            "Downloading qiskit_terra-0.46.3-cp38-abi3-manylinux_2_17_x86_64.manylinux2014_x86_64.whl (5.4 MB)\n",
            "\u001b[2K   \u001b[90m━━━━━━━━━━━━━━━━━━━━━━━━━━━━━━━━━━━━━━━━\u001b[0m \u001b[32m5.4/5.4 MB\u001b[0m \u001b[31m36.0 MB/s\u001b[0m eta \u001b[36m0:00:00\u001b[0m\n",
            "\u001b[?25hDownloading dill-0.3.9-py3-none-any.whl (119 kB)\n",
            "\u001b[2K   \u001b[90m━━━━━━━━━━━━━━━━━━━━━━━━━━━━━━━━━━━━━━━━\u001b[0m \u001b[32m119.4/119.4 kB\u001b[0m \u001b[31m9.0 MB/s\u001b[0m eta \u001b[36m0:00:00\u001b[0m\n",
            "\u001b[?25hDownloading rustworkx-0.16.0-cp39-abi3-manylinux_2_17_x86_64.manylinux2014_x86_64.whl (2.1 MB)\n",
            "\u001b[2K   \u001b[90m━━━━━━━━━━━━━━━━━━━━━━━━━━━━━━━━━━━━━━━━\u001b[0m \u001b[32m2.1/2.1 MB\u001b[0m \u001b[31m41.9 MB/s\u001b[0m eta \u001b[36m0:00:00\u001b[0m\n",
            "\u001b[?25hDownloading stevedore-5.4.1-py3-none-any.whl (49 kB)\n",
            "\u001b[2K   \u001b[90m━━━━━━━━━━━━━━━━━━━━━━━━━━━━━━━━━━━━━━━━\u001b[0m \u001b[32m49.5/49.5 kB\u001b[0m \u001b[31m2.4 MB/s\u001b[0m eta \u001b[36m0:00:00\u001b[0m\n",
            "\u001b[?25hDownloading symengine-0.14.0-cp311-cp311-manylinux_2_17_x86_64.manylinux2014_x86_64.whl (50.3 MB)\n",
            "\u001b[2K   \u001b[90m━━━━━━━━━━━━━━━━━━━━━━━━━━━━━━━━━━━━━━━━\u001b[0m \u001b[32m50.3/50.3 MB\u001b[0m \u001b[31m12.8 MB/s\u001b[0m eta \u001b[36m0:00:00\u001b[0m\n",
            "\u001b[?25hDownloading pbr-6.1.1-py2.py3-none-any.whl (108 kB)\n",
            "\u001b[2K   \u001b[90m━━━━━━━━━━━━━━━━━━━━━━━━━━━━━━━━━━━━━━━━\u001b[0m \u001b[32m109.0/109.0 kB\u001b[0m \u001b[31m6.2 MB/s\u001b[0m eta \u001b[36m0:00:00\u001b[0m\n",
            "\u001b[?25hInstalling collected packages: symengine, rustworkx, pbr, dill, stevedore, qiskit-terra, qiskit\n",
            "Successfully installed dill-0.3.9 pbr-6.1.1 qiskit-0.46.3 qiskit-terra-0.46.3 rustworkx-0.16.0 stevedore-5.4.1 symengine-0.14.0\n"
          ]
        }
      ],
      "source": [
        "!pip install qiskit==0.46.3"
      ]
    },
    {
      "cell_type": "code",
      "source": [
        "!pip install qiskit-aer==0.12.2"
      ],
      "metadata": {
        "id": "yKw7c8VQm_FP",
        "colab": {
          "base_uri": "https://localhost:8080/"
        },
        "outputId": "a3a068bf-3006-412b-8c0f-ec0e211933f5"
      },
      "execution_count": null,
      "outputs": [
        {
          "output_type": "stream",
          "name": "stdout",
          "text": [
            "Collecting qiskit-aer==0.12.2\n",
            "  Downloading qiskit_aer-0.12.2-cp311-cp311-manylinux_2_17_x86_64.manylinux2014_x86_64.whl.metadata (6.3 kB)\n",
            "Requirement already satisfied: qiskit-terra>=0.21.0 in /usr/local/lib/python3.11/dist-packages (from qiskit-aer==0.12.2) (0.46.3)\n",
            "Requirement already satisfied: numpy>=1.16.3 in /usr/local/lib/python3.11/dist-packages (from qiskit-aer==0.12.2) (2.0.2)\n",
            "Requirement already satisfied: scipy>=1.0 in /usr/local/lib/python3.11/dist-packages (from qiskit-aer==0.12.2) (1.14.1)\n",
            "Requirement already satisfied: rustworkx>=0.13.0 in /usr/local/lib/python3.11/dist-packages (from qiskit-terra>=0.21.0->qiskit-aer==0.12.2) (0.16.0)\n",
            "Requirement already satisfied: ply>=3.10 in /usr/local/lib/python3.11/dist-packages (from qiskit-terra>=0.21.0->qiskit-aer==0.12.2) (3.11)\n",
            "Requirement already satisfied: psutil>=5 in /usr/local/lib/python3.11/dist-packages (from qiskit-terra>=0.21.0->qiskit-aer==0.12.2) (5.9.5)\n",
            "Requirement already satisfied: sympy>=1.3 in /usr/local/lib/python3.11/dist-packages (from qiskit-terra>=0.21.0->qiskit-aer==0.12.2) (1.13.1)\n",
            "Requirement already satisfied: dill>=0.3 in /usr/local/lib/python3.11/dist-packages (from qiskit-terra>=0.21.0->qiskit-aer==0.12.2) (0.3.9)\n",
            "Requirement already satisfied: python-dateutil>=2.8.0 in /usr/local/lib/python3.11/dist-packages (from qiskit-terra>=0.21.0->qiskit-aer==0.12.2) (2.8.2)\n",
            "Requirement already satisfied: stevedore>=3.0.0 in /usr/local/lib/python3.11/dist-packages (from qiskit-terra>=0.21.0->qiskit-aer==0.12.2) (5.4.1)\n",
            "Requirement already satisfied: symengine>=0.11 in /usr/local/lib/python3.11/dist-packages (from qiskit-terra>=0.21.0->qiskit-aer==0.12.2) (0.14.0)\n",
            "Requirement already satisfied: six>=1.5 in /usr/local/lib/python3.11/dist-packages (from python-dateutil>=2.8.0->qiskit-terra>=0.21.0->qiskit-aer==0.12.2) (1.17.0)\n",
            "Requirement already satisfied: pbr>=2.0.0 in /usr/local/lib/python3.11/dist-packages (from stevedore>=3.0.0->qiskit-terra>=0.21.0->qiskit-aer==0.12.2) (6.1.1)\n",
            "Requirement already satisfied: mpmath<1.4,>=1.1.0 in /usr/local/lib/python3.11/dist-packages (from sympy>=1.3->qiskit-terra>=0.21.0->qiskit-aer==0.12.2) (1.3.0)\n",
            "Requirement already satisfied: setuptools in /usr/local/lib/python3.11/dist-packages (from pbr>=2.0.0->stevedore>=3.0.0->qiskit-terra>=0.21.0->qiskit-aer==0.12.2) (75.1.0)\n",
            "Downloading qiskit_aer-0.12.2-cp311-cp311-manylinux_2_17_x86_64.manylinux2014_x86_64.whl (12.8 MB)\n",
            "\u001b[2K   \u001b[90m━━━━━━━━━━━━━━━━━━━━━━━━━━━━━━━━━━━━━━━━\u001b[0m \u001b[32m12.8/12.8 MB\u001b[0m \u001b[31m46.7 MB/s\u001b[0m eta \u001b[36m0:00:00\u001b[0m\n",
            "\u001b[?25hInstalling collected packages: qiskit-aer\n",
            "Successfully installed qiskit-aer-0.12.2\n"
          ]
        }
      ]
    },
    {
      "cell_type": "code",
      "execution_count": null,
      "metadata": {
        "id": "rVXD9mrzsiX4",
        "colab": {
          "base_uri": "https://localhost:8080/"
        },
        "outputId": "d1732c03-740f-4c3e-d8f1-e1af8faf7fa0"
      },
      "outputs": [
        {
          "output_type": "stream",
          "name": "stderr",
          "text": [
            "<ipython-input-5-7133361913c4>:11: DeprecationWarning: BasicAer is deprecated since Qiskit 0.46 and will be removed in Qiskit 1.0. The BasicAer (qiskit.providers.basicaer) module has been superseded by  qiskit.providers.basic_provider, and all its classes have been renamed to follow a new naming convention. More information and migration guidelines can be found in the 0.46 API docs for BasicAer.\n",
            "  from qiskit import BasicAer\n"
          ]
        }
      ],
      "source": [
        "import numpy as np\n",
        "#from qiskit import *\n",
        "import scipy as sp\n",
        "from qiskit import QuantumCircuit, transpile\n",
        "#Instead of importing from qiskit_aer directly, import from the simulator module.\n",
        "from qiskit_aer import Aer\n",
        "from qiskit_aer import AerSimulator # Importing the AerSimulator to be used with the execute function.\n",
        "import qiskit\n",
        "from qiskit.quantum_info import Statevector, partial_trace\n",
        "from qiskit import execute\n",
        "from qiskit import BasicAer\n",
        "\n",
        "from tqdm import tqdm\n"
      ]
    },
    {
      "cell_type": "markdown",
      "source": [
        "# Função para gerar os circuitos escolhidos\n",
        "\n",
        "  todos os circuitos recebem os parâmetros em um numpy array, unidimensional e com valores de parâmetos diferentes\n",
        "\n",
        "######  ansatz1 = 4 parâmetros\n",
        "######  ansatz2 = 8 parâmetros\n",
        "######  ansatz3 = 28 parâmetros\n",
        "######  ansatz4 = 28 parâmetros\n",
        "######  ansatz5 = 11 parâmetros\n",
        "######  ansatz6 = 12 parâmetros\n",
        "######  ansatz7 = 11 parâmetros\n",
        "######  ansatz8 = 8 parâmetros\n",
        "######  ansatz9 = 12 parâmetros\n",
        "######  ansatz10 = 12 parâmetros\n"
      ],
      "metadata": {
        "id": "pdIOEqxNu3ff"
      }
    },
    {
      "cell_type": "code",
      "source": [
        "# os 10 circuitos escolhidos\n",
        "\n",
        "#todos os circuitos tem 4 qubits\n",
        "num_qubits = 4\n",
        "\n",
        "\"\"\"\n",
        "todos os circuitos recebem os parâmetros em um numpy array, unidimensional e com valores de parâmetos diferentes\n",
        "\n",
        "ansatz1 = 4 parâmetros\n",
        "ansatz2 = 8 parâmetros\n",
        "ansatz3 = 28 parâmetros\n",
        "ansatz4 = 28 parâmetros\n",
        "ansatz5 = 11 parâmetros\n",
        "ansatz6 = 12 parâmetros\n",
        "ansatz7 = 11 parâmetros\n",
        "ansatz8 = 4 parâmetros\n",
        "ansatz9 = 12 parâmetros\n",
        "ansatz10 = 12 parâmetros\n",
        "\n",
        "\"\"\"\n",
        "# o primeiro circuito particularmente, tem a maior métrica de espressibilidade e emaranhamento, o circuito 9\n",
        "def ansatz1(params):\n",
        "\n",
        "\n",
        "    ansatz = QuantumCircuit(num_qubits, num_qubits)\n",
        "\n",
        "    # aplicar Hadamard a todos os qubits\n",
        "    ansatz.h([0, 1, 2, 3])\n",
        "\n",
        "\n",
        "    # cnot em todos os quibits\n",
        "    ansatz.cz(2, 3)\n",
        "    ansatz.cz(1, 2)\n",
        "    ansatz.cz(0, 1)\n",
        "\n",
        "    #rx em todas as portas\n",
        "    for idx in range(num_qubits):\n",
        "\n",
        "      ansatz.rx(params[idx], idx)\n",
        "\n",
        "\n",
        "    return ansatz\n",
        "\n",
        "# o segundo circuito, alta expressibilidade e baixo emaranhamento, o circuito 1\n",
        "def ansatz2(params):\n",
        "\n",
        "    params = params.reshape(2, 4)\n",
        "\n",
        "    ansatz = QuantumCircuit(num_qubits, num_qubits)\n",
        "\n",
        "    for i in range(num_qubits):\n",
        "\n",
        "      ansatz.rx(params[0][i], i)\n",
        "\n",
        "    for i in range(num_qubits):\n",
        "\n",
        "      ansatz.rz(params[1][i], i)\n",
        "\n",
        "\n",
        "    return ansatz\n",
        "\n",
        "\n",
        "# o terceiro circuito, baixa expressibilidade e baixo emaranhamento, o circuito 5\n",
        "def ansatz3(params):\n",
        "\n",
        "    rx1 = params[:4]\n",
        "    rz1 = params[4:8]\n",
        "    crz = params[8:20]\n",
        "    rx2 = params[20:24]\n",
        "    rz2 = params[24:28]\n",
        "\n",
        "    ansatz = QuantumCircuit(num_qubits, num_qubits)\n",
        "\n",
        "    for i in range(num_qubits):\n",
        "\n",
        "      ansatz.rx(rx1[i], i)\n",
        "\n",
        "    for i in range(num_qubits):\n",
        "\n",
        "      ansatz.rz(rz1[i], i)\n",
        "\n",
        "    # portas de controle de rotação no eixo z\n",
        "\n",
        "    ansatz.crz(crz[0], 3, 2)\n",
        "    ansatz.crz(crz[1], 3, 1)\n",
        "    ansatz.crz(crz[2], 3, 0)\n",
        "    ansatz.crz(crz[3], 2, 3)\n",
        "    ansatz.crz(crz[4], 2, 1)\n",
        "    ansatz.crz(crz[5], 2, 0)\n",
        "    ansatz.crz(crz[6], 1, 3)\n",
        "    ansatz.crz(crz[7], 1, 2)\n",
        "    ansatz.crz(crz[8], 1, 0)\n",
        "    ansatz.crz(crz[9], 0, 3)\n",
        "    ansatz.crz(crz[10], 0, 2)\n",
        "    ansatz.crz(crz[11], 0, 1)\n",
        "\n",
        "    for i in range(num_qubits):\n",
        "\n",
        "      ansatz.rx(rx2[i], i)\n",
        "\n",
        "    for i in range(num_qubits):\n",
        "\n",
        "      ansatz.rz(rz2[i], i)\n",
        "\n",
        "    return ansatz\n",
        "\n",
        "# o quart circuito, baixa expressibilidade e alto emaranhamento, o circuito 6\n",
        "def ansatz4(params):\n",
        "\n",
        "    rx1 = params[:4]\n",
        "    rz1 = params[4:8]\n",
        "    crx = params[8:20]\n",
        "    rx2 = params[20:24]\n",
        "    rz2 = params[24:28]\n",
        "\n",
        "    ansatz = QuantumCircuit(num_qubits, num_qubits)\n",
        "\n",
        "    for i in range(num_qubits):\n",
        "\n",
        "      ansatz.rx(rx1[i], i)\n",
        "\n",
        "    for i in range(num_qubits):\n",
        "\n",
        "      ansatz.rz(rz1[i], i)\n",
        "\n",
        "    # portas de controle de rotação no eixo x\n",
        "\n",
        "    ansatz.crx(crx[0], 3, 2)\n",
        "    ansatz.crx(crx[1], 3, 1)\n",
        "    ansatz.crx(crx[2], 3, 0)\n",
        "    ansatz.crx(crx[3], 2, 3)\n",
        "    ansatz.crx(crx[4], 2, 1)\n",
        "    ansatz.crx(crx[5], 2, 0)\n",
        "    ansatz.crx(crx[6], 1, 3)\n",
        "    ansatz.crx(crx[7], 1, 2)\n",
        "    ansatz.crx(crx[8], 1, 0)\n",
        "    ansatz.crx(crx[9], 0, 3)\n",
        "    ansatz.crx(crx[10], 0, 2)\n",
        "    ansatz.crx(crx[11], 0, 1)\n",
        "\n",
        "    for i in range(num_qubits):\n",
        "\n",
        "      ansatz.rx(rx2[i], i)\n",
        "\n",
        "    for i in range(num_qubits):\n",
        "\n",
        "      ansatz.rz(rz2[i], i)\n",
        "\n",
        "    return ansatz\n",
        "\n",
        "# quinto circuito, média expressibilidade e médio emaranhamento, circuito 4\n",
        "\n",
        "def ansatz5(params):\n",
        "\n",
        "    rx = params[:4]\n",
        "    rz = params[4:8]\n",
        "    crx = params[8:11]\n",
        "\n",
        "    ansatz = QuantumCircuit(num_qubits, num_qubits)\n",
        "\n",
        "    for i in range(num_qubits):\n",
        "\n",
        "      ansatz.rx(rx[i], i)\n",
        "\n",
        "    for i in range(num_qubits):\n",
        "\n",
        "      ansatz.rz(rz[i], i)\n",
        "\n",
        "    ansatz.crx(crx[0], 3, 2)\n",
        "    ansatz.crx(crx[1], 2, 1)\n",
        "    ansatz.crx(crx[2], 1, 0)\n",
        "\n",
        "\n",
        "    return ansatz\n",
        "\n",
        "# sexto circuito, médio expressibilidade e emaranhamento alto, circuito 11\n",
        "\n",
        "def ansatz6(params):\n",
        "\n",
        "    ansatz = QuantumCircuit(num_qubits, num_qubits)\n",
        "\n",
        "    rx = params[:4]\n",
        "    rz = params[4:8]\n",
        "    ry_rz = params[8:12]\n",
        "\n",
        "    for i in range(num_qubits):\n",
        "\n",
        "      ansatz.rx(rx[i], i)\n",
        "\n",
        "    for i in range(num_qubits):\n",
        "\n",
        "      ansatz.rz(rz[i], i)\n",
        "\n",
        "\n",
        "    ansatz.cx(1, 0)\n",
        "    ansatz.cx(3, 2)\n",
        "    ansatz.ry(ry_rz[0], 1)\n",
        "    ansatz.ry(ry_rz[1], 2)\n",
        "    ansatz.rz(ry_rz[2], 1)\n",
        "    ansatz.rz(ry_rz[3], 1)\n",
        "    ansatz.cx(2, 1)\n",
        "\n",
        "\n",
        "    return ansatz\n",
        "\n",
        "# sétimo circuito, alta expressabilidade mas com emaranhamento mais baixo que o circuito 1, circuito 16\n",
        "\n",
        "def ansatz7(params):\n",
        "\n",
        "    ansatz = QuantumCircuit(num_qubits, num_qubits)\n",
        "\n",
        "    rx = params[:4]\n",
        "    rz = params[4:8]\n",
        "    crz = params[8:11]\n",
        "\n",
        "    for i in range(num_qubits):\n",
        "\n",
        "      ansatz.rx(rx[i], i)\n",
        "\n",
        "    for i in range(num_qubits):\n",
        "\n",
        "      ansatz.rz(rz[i], i)\n",
        "\n",
        "    ansatz.crz(crz[0], 1, 0)\n",
        "    ansatz.crz(crz[1], 3, 2)\n",
        "    ansatz.crz(crz[2], 2, 1)\n",
        "\n",
        "    return ansatz\n",
        "\n",
        "# oitavo circuito, alta expressibilidade e alto emaranhamento, mas expressibilidade muito menor que o circuito 9, circuito 2\n",
        "\n",
        "def ansatz8(params):\n",
        "\n",
        "    ansatz = QuantumCircuit(num_qubits, num_qubits)\n",
        "\n",
        "    params = params.reshape(2, 4)\n",
        "\n",
        "    for i in range(num_qubits):\n",
        "\n",
        "      ansatz.rx(params[0][i], i)\n",
        "\n",
        "    for i in range(num_qubits):\n",
        "\n",
        "      ansatz.rz(params[1][i], i)\n",
        "\n",
        "\n",
        "    ansatz.cx(3, 2)\n",
        "    ansatz.cx(2, 1)\n",
        "    ansatz.cx(1, 0)\n",
        "\n",
        "    return ansatz\n",
        "\n",
        "# nono circuito, alta expressabilidade e médio emaranhamento, circuito 12\n",
        "\n",
        "def ansatz9(params):\n",
        "\n",
        "    ansatz = QuantumCircuit(num_qubits, num_qubits)\n",
        "\n",
        "    rx = params[:4]\n",
        "    rz = params[4:8]\n",
        "    ry_rz = params[8:12]\n",
        "\n",
        "    for i in range(num_qubits):\n",
        "\n",
        "      ansatz.rx(rx[i], i)\n",
        "\n",
        "    for i in range(num_qubits):\n",
        "\n",
        "      ansatz.rz(rz[i], i)\n",
        "\n",
        "\n",
        "    ansatz.cz(1, 0)\n",
        "    ansatz.cz(3, 2)\n",
        "    ansatz.ry(ry_rz[0], 1)\n",
        "    ansatz.ry(ry_rz[1], 2)\n",
        "    ansatz.rz(ry_rz[2], 1)\n",
        "    ansatz.rz(ry_rz[3], 2)\n",
        "    ansatz.cz(2, 1)\n",
        "\n",
        "    return ansatz\n",
        "\n",
        "\n",
        "# décimo circuito, baixa expressibilidade e baixo emaranhamento, circuito 19\n",
        "\n",
        "def ansatz10(params):\n",
        "\n",
        "    ansatz = QuantumCircuit(num_qubits, num_qubits)\n",
        "\n",
        "    rx = params[:4]\n",
        "    rz = params[4:8]\n",
        "    crz = params[8:12]\n",
        "\n",
        "    for i in range(num_qubits):\n",
        "\n",
        "      ansatz.rx(rx[i], i)\n",
        "\n",
        "    for i in range(num_qubits):\n",
        "\n",
        "      ansatz.rz(rz[i], i)\n",
        "\n",
        "    ansatz.crz(crz[0], 3, 0)\n",
        "    ansatz.crz(crz[1], 2, 3)\n",
        "    ansatz.crz(crz[2], 1, 2)\n",
        "    ansatz.crz(crz[3], 0, 1)\n",
        "\n",
        "    return ansatz\n",
        "\n"
      ],
      "metadata": {
        "id": "qQk_QIDbq470"
      },
      "execution_count": null,
      "outputs": []
    },
    {
      "cell_type": "markdown",
      "source": [
        "# Plotando os circuitos"
      ],
      "metadata": {
        "id": "GeygF0_Evg4L"
      }
    },
    {
      "cell_type": "code",
      "execution_count": null,
      "metadata": {
        "id": "-vKDHnfxuh2Q",
        "colab": {
          "base_uri": "https://localhost:8080/",
          "height": 439
        },
        "outputId": "886d7bd6-eb07-49ac-9ef3-675c7063269d"
      },
      "outputs": [
        {
          "output_type": "stream",
          "name": "stderr",
          "text": [
            "/usr/local/lib/python3.11/dist-packages/qiskit/visualization/circuit/matplotlib.py:266: FutureWarning: The default matplotlib drawer scheme will be changed to \"iqp\" in a following release. To silence this warning, specify the current default explicitly as style=\"clifford\", or the new default as style=\"iqp\".\n",
            "  self._style, def_font_ratio = load_style(self._style)\n"
          ]
        },
        {
          "output_type": "execute_result",
          "data": {
            "text/plain": [
              "<Figure size 538.33x451.5 with 1 Axes>"
            ],
            "image/png": "[encoded data removed]"
          },
          "metadata": {},
          "execution_count": 7
        }
      ],
      "source": [
        "ansatz1([-np.pi, np.pi, np.pi/2, np.pi/3]).draw('mpl')"
      ]
    },
    {
      "cell_type": "code",
      "execution_count": null,
      "metadata": {
        "colab": {
          "base_uri": "https://localhost:8080/",
          "height": 384
        },
        "id": "lUF9iZYpuhER",
        "outputId": "e02beb2a-ef19-46c8-e583-4967358d1e2b"
      },
      "outputs": [
        {
          "output_type": "execute_result",
          "data": {
            "text/plain": [
              "<Figure size 287.496x451.5 with 1 Axes>"
            ],
            "image/png": "[encoded data removed]"
          },
          "metadata": {},
          "execution_count": 8
        }
      ],
      "source": [
        "ansatz2(np.array([-np.pi, np.pi, np.pi/2, np.pi/3, -np.pi, np.pi, np.pi/2, np.pi/3])).draw('mpl')"
      ]
    },
    {
      "cell_type": "code",
      "execution_count": null,
      "metadata": {
        "colab": {
          "base_uri": "https://localhost:8080/",
          "height": 384
        },
        "id": "5DZCL1ojvIad",
        "outputId": "1052daad-e253-4786-e3bb-1197b7211286"
      },
      "outputs": [
        {
          "output_type": "execute_result",
          "data": {
            "text/plain": [
              "<Figure size 1458.05x451.5 with 1 Axes>"
            ],
            "image/png": "[encoded data removed]"
          },
          "metadata": {},
          "execution_count": 9
        }
      ],
      "source": [
        "ansatz3(np.random.uniform(-np.pi, np.pi, 28)).draw('mpl')"
      ]
    },
    {
      "cell_type": "code",
      "source": [
        "ansatz4(np.random.uniform(-np.pi, np.pi, 28)).draw('mpl')"
      ],
      "metadata": {
        "colab": {
          "base_uri": "https://localhost:8080/",
          "height": 384
        },
        "id": "b2xN5fx8IQRV",
        "outputId": "d5dea7e1-4491-43fe-80aa-9159069c987d"
      },
      "execution_count": null,
      "outputs": [
        {
          "output_type": "execute_result",
          "data": {
            "text/plain": [
              "<Figure size 1458.05x451.5 with 1 Axes>"
            ],
            "image/png": "[encoded data removed]"
          },
          "metadata": {},
          "execution_count": 10
        }
      ]
    },
    {
      "cell_type": "code",
      "source": [
        "ansatz5(np.random.uniform(-np.pi, np.pi, 11)).draw('mpl')"
      ],
      "metadata": {
        "colab": {
          "base_uri": "https://localhost:8080/",
          "height": 384
        },
        "id": "i5oSKvuFIhOu",
        "outputId": "ecd06589-87c9-407d-deab-fba70d61acd3"
      },
      "execution_count": null,
      "outputs": [
        {
          "output_type": "execute_result",
          "data": {
            "text/plain": [
              "<Figure size 538.33x451.5 with 1 Axes>"
            ],
            "image/png": "[encoded data removed]"
          },
          "metadata": {},
          "execution_count": 11
        }
      ]
    },
    {
      "cell_type": "code",
      "source": [
        "ansatz6(np.random.uniform(-np.pi, np.pi, 12)).draw('mpl')"
      ],
      "metadata": {
        "colab": {
          "base_uri": "https://localhost:8080/",
          "height": 384
        },
        "id": "2dnObSDhJJQJ",
        "outputId": "48324542-104c-443f-a6f7-dc4299aa2694"
      },
      "execution_count": null,
      "outputs": [
        {
          "output_type": "execute_result",
          "data": {
            "text/plain": [
              "<Figure size 705.552x451.5 with 1 Axes>"
            ],
            "image/png": "[encoded data removed]"
          },
          "metadata": {},
          "execution_count": 12
        }
      ]
    },
    {
      "cell_type": "code",
      "source": [
        "ansatz7(np.random.uniform(-np.pi, np.pi, 11)).draw('mpl')"
      ],
      "metadata": {
        "colab": {
          "base_uri": "https://localhost:8080/",
          "height": 384
        },
        "id": "Q8Nqp0-KJUBP",
        "outputId": "0d3985fd-f1cf-4014-a170-be775b21c23c"
      },
      "execution_count": null,
      "outputs": [
        {
          "output_type": "execute_result",
          "data": {
            "text/plain": [
              "<Figure size 454.719x451.5 with 1 Axes>"
            ],
            "image/png": "[encoded data removed]"
          },
          "metadata": {},
          "execution_count": 13
        }
      ]
    },
    {
      "cell_type": "code",
      "source": [
        "ansatz8(np.random.uniform(-np.pi, np.pi, 8)).draw('mpl')"
      ],
      "metadata": {
        "colab": {
          "base_uri": "https://localhost:8080/",
          "height": 384
        },
        "id": "meHlYi1XJdSW",
        "outputId": "ceae9fb9-ae31-4ab5-e635-88aa090312cb"
      },
      "execution_count": null,
      "outputs": [
        {
          "output_type": "execute_result",
          "data": {
            "text/plain": [
              "<Figure size 538.33x451.5 with 1 Axes>"
            ],
            "image/png": "[encoded data removed]"
          },
          "metadata": {},
          "execution_count": 14
        }
      ]
    },
    {
      "cell_type": "code",
      "source": [
        "ansatz9(np.random.uniform(-np.pi, np.pi, 12)).draw('mpl')"
      ],
      "metadata": {
        "colab": {
          "base_uri": "https://localhost:8080/",
          "height": 384
        },
        "id": "ssVDg4lqJo9l",
        "outputId": "c7da457a-e9ea-433a-e9f5-2469ec42551c"
      },
      "execution_count": null,
      "outputs": [
        {
          "output_type": "execute_result",
          "data": {
            "text/plain": [
              "<Figure size 621.941x451.5 with 1 Axes>"
            ],
            "image/png": "[encoded data removed]"
          },
          "metadata": {},
          "execution_count": 15
        }
      ]
    },
    {
      "cell_type": "code",
      "source": [
        "ansatz10(np.random.uniform(-np.pi, np.pi, 12)).draw('mpl')"
      ],
      "metadata": {
        "colab": {
          "base_uri": "https://localhost:8080/",
          "height": 384
        },
        "id": "zpCTObQuKkg-",
        "outputId": "a5ce7a0a-1ce1-4f36-9422-9ea439a5c5de"
      },
      "execution_count": null,
      "outputs": [
        {
          "output_type": "execute_result",
          "data": {
            "text/plain": [
              "<Figure size 621.941x451.5 with 1 Axes>"
            ],
            "image/png": "[encoded data removed]"
          },
          "metadata": {},
          "execution_count": 16
        }
      ]
    },
    {
      "cell_type": "markdown",
      "source": [
        "# Medindo expressibilidade e emaranhamento dos circuitos"
      ],
      "metadata": {
        "id": "XevrAx55wx9L"
      }
    },
    {
      "cell_type": "code",
      "source": [
        "# Function to generate a random unitary matrix\n",
        "def random_unitary(dim):\n",
        "    \"\"\"Generate a random unitary matrix of dimension dim using QR decomposition.\"\"\"\n",
        "    Z = np.random.randn(dim, dim) + 1j * np.random.randn(dim, dim)\n",
        "    Q, R = np.linalg.qr(Z)\n",
        "    d = np.diagonal(R)\n",
        "    Q *= d / np.abs(d)\n",
        "    return Q\n",
        "\n",
        "# Haar Integral Calculation\n",
        "def haar_integral(num_qubits, samples):\n",
        "    \"\"\"\n",
        "    Return the calculation of Haar Integral for a specified number of samples.\n",
        "    \"\"\"\n",
        "    N = 2 ** num_qubits\n",
        "    randunit_density = np.zeros((N, N), dtype=complex)\n",
        "\n",
        "    zero_state = np.zeros(N, dtype=complex)\n",
        "    zero_state[0] = 1\n",
        "\n",
        "    for _ in tqdm(range(samples), desc=\"Calculando Haar Integral\"):\n",
        "        # Generate random unitary\n",
        "        unitary = random_unitary(N)\n",
        "        # Apply unitary to the zero state\n",
        "        A = np.matmul(zero_state, unitary).reshape(-1, 1)\n",
        "        # Accumulate density matrix\n",
        "        randunit_density += np.kron(A, A.conj().T)\n",
        "\n",
        "    # Normalize by number of samples\n",
        "    randunit_density /= samples\n",
        "    return randunit_density\n",
        "\n",
        "# PQC Integral Calculation\n",
        "def pqc_integral(num_qubits, ansatze, size, samples):\n",
        "    \"\"\"\n",
        "    Return the calculation of Integral for a PQC over uniformly sampled\n",
        "    parameters θ for the specified number of samples.\n",
        "    \"\"\"\n",
        "    N = num_qubits\n",
        "    randunit_density = np.zeros((2 ** N, 2 ** N), dtype=complex)\n",
        "\n",
        "    for _ in  tqdm(range(samples), desc=\"Calculando PQC Integral\"):\n",
        "        # Sample random parameters\n",
        "        params = np.random.uniform(-np.pi, np.pi, size)\n",
        "        # Create the ansatz circuit with the given parameters\n",
        "        ansatz = ansatze(params)\n",
        "        # Simulate the circuit to get the statevector\n",
        "        statevector = Statevector.from_instruction(transpile(ansatz, Aer.get_backend(\"qasm_simulator\")))\n",
        "        # Reshape statevector to column vector\n",
        "        U = statevector.data.reshape(-1, 1)\n",
        "        # Accumulate density matrix\n",
        "        randunit_density += np.kron(U, U.conj().T)\n",
        "\n",
        "    # Normalize by number of samples\n",
        "    return randunit_density / samples\n"
      ],
      "metadata": {
        "id": "DL5DTTtPwtwJ"
      },
      "execution_count": null,
      "outputs": []
    },
    {
      "cell_type": "code",
      "execution_count": null,
      "metadata": {
        "colab": {
          "base_uri": "https://localhost:8080/"
        },
        "id": "U0tE6ch3tMeG",
        "outputId": "0eb817d7-b866-4652-af89-88ea1f3638eb"
      },
      "outputs": [
        {
          "output_type": "stream",
          "name": "stderr",
          "text": [
            "Calculando Haar Integral: 100%|██████████| 5000/5000 [00:00<00:00, 5657.87it/s]\n",
            "Calculando PQC Integral: 100%|██████████| 5000/5000 [00:42<00:00, 116.71it/s]\n"
          ]
        }
      ],
      "source": [
        "expr1 = np.linalg.norm(haar_integral(num_qubits, 5000) - pqc_integral(num_qubits, ansatz1, 4, 5000))"
      ]
    },
    {
      "cell_type": "code",
      "execution_count": null,
      "metadata": {
        "colab": {
          "base_uri": "https://localhost:8080/"
        },
        "id": "gfNeIxtFuySU",
        "outputId": "b8c9ada8-4603-4edb-d82a-5186e60d64ce"
      },
      "outputs": [
        {
          "output_type": "stream",
          "name": "stderr",
          "text": [
            "Calculando Haar Integral: 100%|██████████| 5000/5000 [00:00<00:00, 5335.52it/s]\n",
            "Calculando PQC Integral: 100%|██████████| 5000/5000 [00:36<00:00, 136.29it/s]\n"
          ]
        }
      ],
      "source": [
        "expr2 = np.linalg.norm(haar_integral(num_qubits, 5000) - pqc_integral(num_qubits, ansatz2, 8, 5000))"
      ]
    },
    {
      "cell_type": "code",
      "execution_count": null,
      "metadata": {
        "colab": {
          "base_uri": "https://localhost:8080/"
        },
        "id": "mrQU6jK9u6Tf",
        "outputId": "38e92689-38e4-404a-8cef-87b40ed44d8a"
      },
      "outputs": [
        {
          "output_type": "stream",
          "name": "stderr",
          "text": [
            "Calculando Haar Integral: 100%|██████████| 5000/5000 [00:01<00:00, 3532.80it/s]\n",
            "Calculando PQC Integral: 100%|██████████| 5000/5000 [01:30<00:00, 55.50it/s]\n"
          ]
        }
      ],
      "source": [
        "expr3 = np.linalg.norm(haar_integral(num_qubits, 5000) - pqc_integral(num_qubits, ansatz3, 28, 5000))"
      ]
    },
    {
      "cell_type": "code",
      "source": [
        "expr4 = np.linalg.norm(haar_integral(num_qubits, 5000) - pqc_integral(num_qubits, ansatz4, 28, 5000))"
      ],
      "metadata": {
        "colab": {
          "base_uri": "https://localhost:8080/"
        },
        "id": "0DSXh7K5xaC2",
        "outputId": "36b0a169-c0aa-4d55-f9ff-4032d6839ffe"
      },
      "execution_count": null,
      "outputs": [
        {
          "output_type": "stream",
          "name": "stderr",
          "text": [
            "Calculando Haar Integral: 100%|██████████| 5000/5000 [00:01<00:00, 4310.72it/s]\n",
            "Calculando PQC Integral: 100%|██████████| 5000/5000 [01:45<00:00, 47.28it/s]\n"
          ]
        }
      ]
    },
    {
      "cell_type": "code",
      "source": [
        "expr5 = np.linalg.norm(haar_integral(num_qubits, 5000) - pqc_integral(num_qubits, ansatz5, 11, 5000))"
      ],
      "metadata": {
        "colab": {
          "base_uri": "https://localhost:8080/"
        },
        "id": "ro64Ef5WxaqG",
        "outputId": "ba325fa8-2ca6-47d7-c46a-cd0d7a892281"
      },
      "execution_count": null,
      "outputs": [
        {
          "output_type": "stream",
          "name": "stderr",
          "text": [
            "Calculando Haar Integral: 100%|██████████| 5000/5000 [00:00<00:00, 5275.50it/s]\n",
            "Calculando PQC Integral: 100%|██████████| 5000/5000 [00:52<00:00, 95.70it/s] \n"
          ]
        }
      ]
    },
    {
      "cell_type": "code",
      "source": [
        "expr6 = np.linalg.norm(haar_integral(num_qubits, 5000) - pqc_integral(num_qubits, ansatz6, 12, 5000))"
      ],
      "metadata": {
        "colab": {
          "base_uri": "https://localhost:8080/"
        },
        "id": "8KyS0p8jxcfO",
        "outputId": "c209872a-88e5-499a-bcc8-2b8855062f3a"
      },
      "execution_count": null,
      "outputs": [
        {
          "output_type": "stream",
          "name": "stderr",
          "text": [
            "Calculando Haar Integral: 100%|██████████| 5000/5000 [00:00<00:00, 5568.03it/s]\n",
            "Calculando PQC Integral: 100%|██████████| 5000/5000 [00:39<00:00, 126.43it/s]\n"
          ]
        }
      ]
    },
    {
      "cell_type": "code",
      "source": [
        "expr7 = np.linalg.norm(haar_integral(num_qubits, 5000) - pqc_integral(num_qubits, ansatz7, 11, 5000))"
      ],
      "metadata": {
        "colab": {
          "base_uri": "https://localhost:8080/"
        },
        "id": "s8C_0HFZxdOO",
        "outputId": "cec1d54f-d199-46f9-ca2d-66f6fd01ebc5"
      },
      "execution_count": null,
      "outputs": [
        {
          "output_type": "stream",
          "name": "stderr",
          "text": [
            "Calculando Haar Integral: 100%|██████████| 5000/5000 [00:00<00:00, 5841.48it/s]\n",
            "Calculando PQC Integral: 100%|██████████| 5000/5000 [00:48<00:00, 104.09it/s]\n"
          ]
        }
      ]
    },
    {
      "cell_type": "code",
      "source": [
        "expr8 = np.linalg.norm(haar_integral(num_qubits, 5000) - pqc_integral(num_qubits, ansatz8, 8, 5000))"
      ],
      "metadata": {
        "colab": {
          "base_uri": "https://localhost:8080/"
        },
        "id": "krvTHtgbxd6-",
        "outputId": "f65d722a-c3b1-4a31-b26f-ca4e1f6917d6"
      },
      "execution_count": null,
      "outputs": [
        {
          "output_type": "stream",
          "name": "stderr",
          "text": [
            "Calculando Haar Integral: 100%|██████████| 5000/5000 [00:00<00:00, 5582.58it/s]\n",
            "Calculando PQC Integral: 100%|██████████| 5000/5000 [00:35<00:00, 141.02it/s]\n"
          ]
        }
      ]
    },
    {
      "cell_type": "code",
      "source": [
        "expr9 = np.linalg.norm(haar_integral(num_qubits, 5000) - pqc_integral(num_qubits, ansatz9, 12, 5000))"
      ],
      "metadata": {
        "colab": {
          "base_uri": "https://localhost:8080/"
        },
        "id": "3gSNpmv4xem3",
        "outputId": "1a4e2471-735f-49b2-8e3b-3f5f7c642cd4"
      },
      "execution_count": null,
      "outputs": [
        {
          "output_type": "stream",
          "name": "stderr",
          "text": [
            "Calculando Haar Integral: 100%|██████████| 5000/5000 [00:01<00:00, 4115.06it/s]\n",
            "Calculando PQC Integral: 100%|██████████| 5000/5000 [00:39<00:00, 126.96it/s]\n"
          ]
        }
      ]
    },
    {
      "cell_type": "code",
      "source": [
        "expr10 = np.linalg.norm(haar_integral(num_qubits, 5000) - pqc_integral(num_qubits, ansatz10, 12, 5000))"
      ],
      "metadata": {
        "colab": {
          "base_uri": "https://localhost:8080/"
        },
        "id": "i3AJSZJvxYBe",
        "outputId": "808fe027-366d-4a85-86fd-24d77a452d79"
      },
      "execution_count": null,
      "outputs": [
        {
          "output_type": "stream",
          "name": "stderr",
          "text": [
            "Calculando Haar Integral: 100%|██████████| 5000/5000 [00:00<00:00, 5924.12it/s]\n",
            "Calculando PQC Integral: 100%|██████████| 5000/5000 [00:50<00:00, 98.42it/s] \n"
          ]
        }
      ]
    },
    {
      "cell_type": "code",
      "source": [
        "print(expr1)\n",
        "print(expr2)\n",
        "print(expr3)\n",
        "print(expr4)\n",
        "print(expr5)\n",
        "print(expr6)\n",
        "print(expr7)\n",
        "print(expr8)\n",
        "print(expr9)\n",
        "print(expr10)"
      ],
      "metadata": {
        "colab": {
          "base_uri": "https://localhost:8080/"
        },
        "id": "Twsym69jSWIu",
        "outputId": "84be70e2-3856-44e3-938a-1254ee38d384"
      },
      "execution_count": null,
      "outputs": [
        {
          "output_type": "stream",
          "name": "stdout",
          "text": [
            "0.01978980850015812\n",
            "0.0211529469054184\n",
            "0.018392278350334895\n",
            "0.018288914042164754\n",
            "0.019206731466884487\n",
            "0.017975683767900416\n",
            "0.019296599431648426\n",
            "0.017191199389778235\n",
            "0.021109432796262397\n",
            "0.018909055779509683\n"
          ]
        }
      ]
    },
    {
      "cell_type": "code",
      "execution_count": null,
      "metadata": {
        "id": "_ceEnsgBtwT3"
      },
      "outputs": [],
      "source": [
        "def meyer_wallach(circuit, num_qubits, size, sample=5000):\n",
        "\n",
        "    \"\"\"\n",
        "\n",
        "        Returns the meyer-wallach entanglement measure for the given circuit.\n",
        "\n",
        "    \"\"\"\n",
        "\n",
        "\n",
        "    res = np.zeros(sample, dtype=complex)\n",
        "\n",
        "    N = num_qubits\n",
        "\n",
        "\n",
        "    for i in range(sample):\n",
        "\n",
        "        params = np.random.uniform(-np.pi, np.pi, size)\n",
        "\n",
        "        ansatz = circuit(params)\n",
        "\n",
        "        result = execute(ansatz,\n",
        "\n",
        "                       backend=BasicAer.get_backend('statevector_simulator')).result()\n",
        "\n",
        "        U = result.get_statevector(ansatz, decimals=5)\n",
        "\n",
        "        entropy = 0\n",
        "\n",
        "        qb = list(range(N))\n",
        "\n",
        "\n",
        "        for j in range(N):\n",
        "\n",
        "            dens = qiskit.quantum_info.partial_trace(U, qb[:j]+qb[j+1:]).data\n",
        "\n",
        "            trace = np.trace(dens**2)\n",
        "\n",
        "            entropy += trace\n",
        "\n",
        "\n",
        "        entropy /= N\n",
        "\n",
        "        res[i] = 1 - entropy\n",
        "\n",
        "\n",
        "\n",
        "    return 2*np.sum(res).real/sample"
      ]
    },
    {
      "cell_type": "code",
      "source": [
        "entg1 = meyer_wallach(ansatz1, num_qubits, 4)"
      ],
      "metadata": {
        "colab": {
          "base_uri": "https://localhost:8080/"
        },
        "id": "tDCLusZETQ0e",
        "outputId": "f4c341d2-7cce-4e64-8eb8-646de6e85be3"
      },
      "execution_count": null,
      "outputs": [
        {
          "output_type": "stream",
          "name": "stderr",
          "text": [
            "<ipython-input-34-5ce4281599ae>:21: DeprecationWarning: The function ``qiskit.execute_function.execute()`` is deprecated as of qiskit 0.46.0. It will be removed in the Qiskit 1.0 release. This function combines ``transpile`` and ``backend.run``, which is covered by ``Sampler`` :mod:`~qiskit.primitives`. Alternatively, you can also run :func:`.transpile` followed by ``backend.run()``.\n",
            "  result = execute(ansatz,\n"
          ]
        }
      ]
    },
    {
      "cell_type": "code",
      "execution_count": null,
      "metadata": {
        "colab": {
          "base_uri": "https://localhost:8080/"
        },
        "id": "NNOsu8OLt12o",
        "outputId": "207ced9d-4300-42ae-b741-f4c14dbdc05e"
      },
      "outputs": [
        {
          "output_type": "stream",
          "name": "stderr",
          "text": [
            "<ipython-input-34-5ce4281599ae>:21: DeprecationWarning: The function ``qiskit.execute_function.execute()`` is deprecated as of qiskit 0.46.0. It will be removed in the Qiskit 1.0 release. This function combines ``transpile`` and ``backend.run``, which is covered by ``Sampler`` :mod:`~qiskit.primitives`. Alternatively, you can also run :func:`.transpile` followed by ``backend.run()``.\n",
            "  result = execute(ansatz,\n"
          ]
        }
      ],
      "source": [
        "entg2 = meyer_wallach(ansatz2, num_qubits, 8)"
      ]
    },
    {
      "cell_type": "code",
      "execution_count": null,
      "metadata": {
        "colab": {
          "base_uri": "https://localhost:8080/"
        },
        "id": "K2ghq_6NuRW4",
        "outputId": "82ceba71-ae45-44b7-a1ac-25af541b4b11"
      },
      "outputs": [
        {
          "output_type": "stream",
          "name": "stderr",
          "text": [
            "<ipython-input-34-5ce4281599ae>:21: DeprecationWarning: The function ``qiskit.execute_function.execute()`` is deprecated as of qiskit 0.46.0. It will be removed in the Qiskit 1.0 release. This function combines ``transpile`` and ``backend.run``, which is covered by ``Sampler`` :mod:`~qiskit.primitives`. Alternatively, you can also run :func:`.transpile` followed by ``backend.run()``.\n",
            "  result = execute(ansatz,\n"
          ]
        }
      ],
      "source": [
        "entg3 = meyer_wallach(ansatz3, num_qubits, 28)"
      ]
    },
    {
      "cell_type": "code",
      "execution_count": null,
      "metadata": {
        "id": "GaWhyNbYuSOY",
        "colab": {
          "base_uri": "https://localhost:8080/"
        },
        "outputId": "eb5c9f1b-36d3-443e-930b-3e86eb60cf3d"
      },
      "outputs": [
        {
          "output_type": "stream",
          "name": "stderr",
          "text": [
            "<ipython-input-34-5ce4281599ae>:21: DeprecationWarning: The function ``qiskit.execute_function.execute()`` is deprecated as of qiskit 0.46.0. It will be removed in the Qiskit 1.0 release. This function combines ``transpile`` and ``backend.run``, which is covered by ``Sampler`` :mod:`~qiskit.primitives`. Alternatively, you can also run :func:`.transpile` followed by ``backend.run()``.\n",
            "  result = execute(ansatz,\n"
          ]
        }
      ],
      "source": [
        "entg4 = meyer_wallach(ansatz4, num_qubits, 28)"
      ]
    },
    {
      "cell_type": "code",
      "source": [
        "entg5 = meyer_wallach(ansatz5, num_qubits, 11)"
      ],
      "metadata": {
        "colab": {
          "base_uri": "https://localhost:8080/"
        },
        "id": "uKmd3MLvywV8",
        "outputId": "bdcc092d-2f63-4403-9dd5-3dda40521693"
      },
      "execution_count": null,
      "outputs": [
        {
          "output_type": "stream",
          "name": "stderr",
          "text": [
            "<ipython-input-34-5ce4281599ae>:21: DeprecationWarning: The function ``qiskit.execute_function.execute()`` is deprecated as of qiskit 0.46.0. It will be removed in the Qiskit 1.0 release. This function combines ``transpile`` and ``backend.run``, which is covered by ``Sampler`` :mod:`~qiskit.primitives`. Alternatively, you can also run :func:`.transpile` followed by ``backend.run()``.\n",
            "  result = execute(ansatz,\n"
          ]
        }
      ]
    },
    {
      "cell_type": "code",
      "source": [
        "entg6 = meyer_wallach(ansatz6, num_qubits, 12)"
      ],
      "metadata": {
        "colab": {
          "base_uri": "https://localhost:8080/"
        },
        "id": "wpgd1Mocyw67",
        "outputId": "62742964-04f6-4dac-cf18-d1768b48d5a3"
      },
      "execution_count": null,
      "outputs": [
        {
          "output_type": "stream",
          "name": "stderr",
          "text": [
            "<ipython-input-34-5ce4281599ae>:21: DeprecationWarning: The function ``qiskit.execute_function.execute()`` is deprecated as of qiskit 0.46.0. It will be removed in the Qiskit 1.0 release. This function combines ``transpile`` and ``backend.run``, which is covered by ``Sampler`` :mod:`~qiskit.primitives`. Alternatively, you can also run :func:`.transpile` followed by ``backend.run()``.\n",
            "  result = execute(ansatz,\n"
          ]
        }
      ]
    },
    {
      "cell_type": "code",
      "source": [
        "entg7 = meyer_wallach(ansatz7, num_qubits, 11)"
      ],
      "metadata": {
        "colab": {
          "base_uri": "https://localhost:8080/"
        },
        "id": "Id_qYKHiyyOj",
        "outputId": "cbf1c3d7-e88c-491f-e8ed-453979168106"
      },
      "execution_count": null,
      "outputs": [
        {
          "output_type": "stream",
          "name": "stderr",
          "text": [
            "<ipython-input-34-5ce4281599ae>:21: DeprecationWarning: The function ``qiskit.execute_function.execute()`` is deprecated as of qiskit 0.46.0. It will be removed in the Qiskit 1.0 release. This function combines ``transpile`` and ``backend.run``, which is covered by ``Sampler`` :mod:`~qiskit.primitives`. Alternatively, you can also run :func:`.transpile` followed by ``backend.run()``.\n",
            "  result = execute(ansatz,\n"
          ]
        }
      ]
    },
    {
      "cell_type": "code",
      "source": [
        "entg8 = meyer_wallach(ansatz8, num_qubits, 8)"
      ],
      "metadata": {
        "colab": {
          "base_uri": "https://localhost:8080/"
        },
        "id": "vCq5q3DayyjD",
        "outputId": "f950cf17-4158-4cd5-b8e5-33711e6473ce"
      },
      "execution_count": null,
      "outputs": [
        {
          "output_type": "stream",
          "name": "stderr",
          "text": [
            "<ipython-input-34-5ce4281599ae>:21: DeprecationWarning: The function ``qiskit.execute_function.execute()`` is deprecated as of qiskit 0.46.0. It will be removed in the Qiskit 1.0 release. This function combines ``transpile`` and ``backend.run``, which is covered by ``Sampler`` :mod:`~qiskit.primitives`. Alternatively, you can also run :func:`.transpile` followed by ``backend.run()``.\n",
            "  result = execute(ansatz,\n"
          ]
        }
      ]
    },
    {
      "cell_type": "code",
      "source": [
        "entg9 = meyer_wallach(ansatz9, num_qubits, 12)"
      ],
      "metadata": {
        "colab": {
          "base_uri": "https://localhost:8080/"
        },
        "id": "LUWFkZsoyyyr",
        "outputId": "fd33f9bb-e8cd-4e63-f1ae-92d71b724c56"
      },
      "execution_count": null,
      "outputs": [
        {
          "output_type": "stream",
          "name": "stderr",
          "text": [
            "<ipython-input-34-5ce4281599ae>:21: DeprecationWarning: The function ``qiskit.execute_function.execute()`` is deprecated as of qiskit 0.46.0. It will be removed in the Qiskit 1.0 release. This function combines ``transpile`` and ``backend.run``, which is covered by ``Sampler`` :mod:`~qiskit.primitives`. Alternatively, you can also run :func:`.transpile` followed by ``backend.run()``.\n",
            "  result = execute(ansatz,\n"
          ]
        }
      ]
    },
    {
      "cell_type": "code",
      "source": [
        "entg10 = meyer_wallach(ansatz10, num_qubits, 12)"
      ],
      "metadata": {
        "colab": {
          "base_uri": "https://localhost:8080/"
        },
        "id": "rUYGpt02yzDr",
        "outputId": "14c35c7c-18fb-4cfd-b152-03c94f9000ba"
      },
      "execution_count": null,
      "outputs": [
        {
          "output_type": "stream",
          "name": "stderr",
          "text": [
            "<ipython-input-34-5ce4281599ae>:21: DeprecationWarning: The function ``qiskit.execute_function.execute()`` is deprecated as of qiskit 0.46.0. It will be removed in the Qiskit 1.0 release. This function combines ``transpile`` and ``backend.run``, which is covered by ``Sampler`` :mod:`~qiskit.primitives`. Alternatively, you can also run :func:`.transpile` followed by ``backend.run()``.\n",
            "  result = execute(ansatz,\n"
          ]
        }
      ]
    },
    {
      "cell_type": "code",
      "source": [
        "print(entg1)\n",
        "print(entg2)\n",
        "print(entg3)\n",
        "print(entg4)\n",
        "print(entg5)\n",
        "print(entg6)\n",
        "print(entg7)\n",
        "print(entg8)\n",
        "print(entg9)\n",
        "print(entg10)"
      ],
      "metadata": {
        "colab": {
          "base_uri": "https://localhost:8080/"
        },
        "id": "r3MiyynhUyIq",
        "outputId": "2d65314f-8a01-4a3f-c54b-533b6de122df"
      },
      "execution_count": null,
      "outputs": [
        {
          "output_type": "stream",
          "name": "stdout",
          "text": [
            "0.9999997133652283\n",
            "0.5046417031981847\n",
            "0.699818615923503\n",
            "0.8787075371774645\n",
            "0.6537192413936902\n",
            "0.7324209024081292\n",
            "0.5003132944250019\n",
            "0.7663573827886749\n",
            "0.5955220988040865\n",
            "0.5035746038092509\n"
          ]
        }
      ]
    }
  ],
  "metadata": {
    "colab": {
      "provenance": [],
      "collapsed_sections": [
        "pdIOEqxNu3ff",
        "GeygF0_Evg4L"
      ],
      "include_colab_link": true
    },
    "kernelspec": {
      "display_name": "Python 3",
      "name": "python3"
    },
    "language_info": {
      "name": "python"
    }
  },
  "nbformat": 4,
  "nbformat_minor": 0
}