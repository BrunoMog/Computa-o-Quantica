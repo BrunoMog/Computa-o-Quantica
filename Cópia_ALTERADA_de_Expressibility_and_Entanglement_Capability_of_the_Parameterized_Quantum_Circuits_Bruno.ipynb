{
  "cells": [
    {
      "cell_type": "markdown",
      "metadata": {
        "id": "f1Ov47sYsjTV"
      },
      "source": [
        "https://obliviateandsurrender.github.io/blogs/expr.html"
      ]
    },
    {
      "cell_type": "code",
      "execution_count": 1,
      "metadata": {
        "colab": {
          "base_uri": "https://localhost:8080/"
        },
        "id": "EUl1svDkUIym",
        "outputId": "7149ef9a-9aa2-4df1-d16a-217ea6215b7d"
      },
      "outputs": [
        {
          "output_type": "stream",
          "name": "stdout",
          "text": [
            "Requirement already satisfied: sympy in /usr/local/lib/python3.11/dist-packages (1.13.1)\n",
            "Requirement already satisfied: mpmath<1.4,>=1.1.0 in /usr/local/lib/python3.11/dist-packages (from sympy) (1.3.0)\n"
          ]
        }
      ],
      "source": [
        "%pip install sympy"
      ]
    },
    {
      "cell_type": "code",
      "source": [
        "pip install pylatexenc"
      ],
      "metadata": {
        "id": "7w3wwazooi3a",
        "colab": {
          "base_uri": "https://localhost:8080/"
        },
        "outputId": "cc8cfa0e-6c45-4a0f-b9bb-3156dc2ff219"
      },
      "execution_count": 2,
      "outputs": [
        {
          "output_type": "stream",
          "name": "stdout",
          "text": [
            "Collecting pylatexenc\n",
            "  Downloading pylatexenc-2.10.tar.gz (162 kB)\n",
            "\u001b[?25l     \u001b[90m━━━━━━━━━━━━━━━━━━━━━━━━━━━━━━━━━━━━━━━━\u001b[0m \u001b[32m0.0/162.6 kB\u001b[0m \u001b[31m?\u001b[0m eta \u001b[36m-:--:--\u001b[0m\r\u001b[2K     \u001b[91m━━━━━━━━━━━━━━━━━━━━━━━━━━━━━━━━━━━━━\u001b[0m\u001b[91m╸\u001b[0m\u001b[90m━━\u001b[0m \u001b[32m153.6/162.6 kB\u001b[0m \u001b[31m9.0 MB/s\u001b[0m eta \u001b[36m0:00:01\u001b[0m\r\u001b[2K     \u001b[90m━━━━━━━━━━━━━━━━━━━━━━━━━━━━━━━━━━━━━━━━\u001b[0m \u001b[32m162.6/162.6 kB\u001b[0m \u001b[31m4.1 MB/s\u001b[0m eta \u001b[36m0:00:00\u001b[0m\n",
            "\u001b[?25h  Preparing metadata (setup.py) ... \u001b[?25l\u001b[?25hdone\n",
            "Building wheels for collected packages: pylatexenc\n",
            "  Building wheel for pylatexenc (setup.py) ... \u001b[?25l\u001b[?25hdone\n",
            "  Created wheel for pylatexenc: filename=pylatexenc-2.10-py3-none-any.whl size=136816 sha256=8866c79dd87938f3c054ca59b18df95783ea399f34a2d568ab892576db34b7c2\n",
            "  Stored in directory: /root/.cache/pip/wheels/b1/7a/33/9fdd892f784ed4afda62b685ae3703adf4c91aa0f524c28f03\n",
            "Successfully built pylatexenc\n",
            "Installing collected packages: pylatexenc\n",
            "Successfully installed pylatexenc-2.10\n"
          ]
        }
      ]
    },
    {
      "cell_type": "code",
      "execution_count": 3,
      "metadata": {
        "id": "uTnL-H_Us6E2",
        "colab": {
          "base_uri": "https://localhost:8080/"
        },
        "outputId": "54a7017f-21c1-4dfb-f74f-7180de2c795b"
      },
      "outputs": [
        {
          "output_type": "stream",
          "name": "stdout",
          "text": [
            "Collecting qiskit\n",
            "  Downloading qiskit-1.3.2-cp39-abi3-manylinux_2_17_x86_64.manylinux2014_x86_64.whl.metadata (12 kB)\n",
            "Collecting rustworkx>=0.15.0 (from qiskit)\n",
            "  Downloading rustworkx-0.16.0-cp39-abi3-manylinux_2_17_x86_64.manylinux2014_x86_64.whl.metadata (10 kB)\n",
            "Requirement already satisfied: numpy<3,>=1.17 in /usr/local/lib/python3.11/dist-packages (from qiskit) (1.26.4)\n",
            "Requirement already satisfied: scipy>=1.5 in /usr/local/lib/python3.11/dist-packages (from qiskit) (1.13.1)\n",
            "Requirement already satisfied: sympy>=1.3 in /usr/local/lib/python3.11/dist-packages (from qiskit) (1.13.1)\n",
            "Collecting dill>=0.3 (from qiskit)\n",
            "  Downloading dill-0.3.9-py3-none-any.whl.metadata (10 kB)\n",
            "Requirement already satisfied: python-dateutil>=2.8.0 in /usr/local/lib/python3.11/dist-packages (from qiskit) (2.8.2)\n",
            "Collecting stevedore>=3.0.0 (from qiskit)\n",
            "  Downloading stevedore-5.4.0-py3-none-any.whl.metadata (2.3 kB)\n",
            "Requirement already satisfied: typing-extensions in /usr/local/lib/python3.11/dist-packages (from qiskit) (4.12.2)\n",
            "Collecting symengine<0.14,>=0.11 (from qiskit)\n",
            "  Downloading symengine-0.13.0-cp311-cp311-manylinux_2_17_x86_64.manylinux2014_x86_64.whl.metadata (1.2 kB)\n",
            "Requirement already satisfied: six>=1.5 in /usr/local/lib/python3.11/dist-packages (from python-dateutil>=2.8.0->qiskit) (1.17.0)\n",
            "Collecting pbr>=2.0.0 (from stevedore>=3.0.0->qiskit)\n",
            "  Downloading pbr-6.1.1-py2.py3-none-any.whl.metadata (3.4 kB)\n",
            "Requirement already satisfied: mpmath<1.4,>=1.1.0 in /usr/local/lib/python3.11/dist-packages (from sympy>=1.3->qiskit) (1.3.0)\n",
            "Requirement already satisfied: setuptools in /usr/local/lib/python3.11/dist-packages (from pbr>=2.0.0->stevedore>=3.0.0->qiskit) (75.1.0)\n",
            "Downloading qiskit-1.3.2-cp39-abi3-manylinux_2_17_x86_64.manylinux2014_x86_64.whl (6.8 MB)\n",
            "\u001b[2K   \u001b[90m━━━━━━━━━━━━━━━━━━━━━━━━━━━━━━━━━━━━━━━━\u001b[0m \u001b[32m6.8/6.8 MB\u001b[0m \u001b[31m39.3 MB/s\u001b[0m eta \u001b[36m0:00:00\u001b[0m\n",
            "\u001b[?25hDownloading dill-0.3.9-py3-none-any.whl (119 kB)\n",
            "\u001b[2K   \u001b[90m━━━━━━━━━━━━━━━━━━━━━━━━━━━━━━━━━━━━━━━━\u001b[0m \u001b[32m119.4/119.4 kB\u001b[0m \u001b[31m10.5 MB/s\u001b[0m eta \u001b[36m0:00:00\u001b[0m\n",
            "\u001b[?25hDownloading rustworkx-0.16.0-cp39-abi3-manylinux_2_17_x86_64.manylinux2014_x86_64.whl (2.1 MB)\n",
            "\u001b[2K   \u001b[90m━━━━━━━━━━━━━━━━━━━━━━━━━━━━━━━━━━━━━━━━\u001b[0m \u001b[32m2.1/2.1 MB\u001b[0m \u001b[31m49.9 MB/s\u001b[0m eta \u001b[36m0:00:00\u001b[0m\n",
            "\u001b[?25hDownloading stevedore-5.4.0-py3-none-any.whl (49 kB)\n",
            "\u001b[2K   \u001b[90m━━━━━━━━━━━━━━━━━━━━━━━━━━━━━━━━━━━━━━━━\u001b[0m \u001b[32m49.5/49.5 kB\u001b[0m \u001b[31m4.2 MB/s\u001b[0m eta \u001b[36m0:00:00\u001b[0m\n",
            "\u001b[?25hDownloading symengine-0.13.0-cp311-cp311-manylinux_2_17_x86_64.manylinux2014_x86_64.whl (49.7 MB)\n",
            "\u001b[2K   \u001b[90m━━━━━━━━━━━━━━━━━━━━━━━━━━━━━━━━━━━━━━━━\u001b[0m \u001b[32m49.7/49.7 MB\u001b[0m \u001b[31m9.7 MB/s\u001b[0m eta \u001b[36m0:00:00\u001b[0m\n",
            "\u001b[?25hDownloading pbr-6.1.1-py2.py3-none-any.whl (108 kB)\n",
            "\u001b[2K   \u001b[90m━━━━━━━━━━━━━━━━━━━━━━━━━━━━━━━━━━━━━━━━\u001b[0m \u001b[32m109.0/109.0 kB\u001b[0m \u001b[31m5.9 MB/s\u001b[0m eta \u001b[36m0:00:00\u001b[0m\n",
            "\u001b[?25hInstalling collected packages: symengine, rustworkx, pbr, dill, stevedore, qiskit\n",
            "Successfully installed dill-0.3.9 pbr-6.1.1 qiskit-1.3.2 rustworkx-0.16.0 stevedore-5.4.0 symengine-0.13.0\n"
          ]
        }
      ],
      "source": [
        "%pip install qiskit"
      ]
    },
    {
      "cell_type": "code",
      "source": [
        "!pip install qiskit-aer"
      ],
      "metadata": {
        "id": "yKw7c8VQm_FP",
        "colab": {
          "base_uri": "https://localhost:8080/"
        },
        "outputId": "652676a2-4014-4b44-b1a4-90ea7c59c2b9"
      },
      "execution_count": 4,
      "outputs": [
        {
          "output_type": "stream",
          "name": "stdout",
          "text": [
            "Collecting qiskit-aer\n",
            "  Downloading qiskit_aer-0.16.1-cp311-cp311-manylinux_2_17_x86_64.manylinux2014_x86_64.whl.metadata (8.2 kB)\n",
            "Requirement already satisfied: qiskit>=1.1.0 in /usr/local/lib/python3.11/dist-packages (from qiskit-aer) (1.3.2)\n",
            "Requirement already satisfied: numpy>=1.16.3 in /usr/local/lib/python3.11/dist-packages (from qiskit-aer) (1.26.4)\n",
            "Requirement already satisfied: scipy>=1.0 in /usr/local/lib/python3.11/dist-packages (from qiskit-aer) (1.13.1)\n",
            "Requirement already satisfied: psutil>=5 in /usr/local/lib/python3.11/dist-packages (from qiskit-aer) (5.9.5)\n",
            "Requirement already satisfied: rustworkx>=0.15.0 in /usr/local/lib/python3.11/dist-packages (from qiskit>=1.1.0->qiskit-aer) (0.16.0)\n",
            "Requirement already satisfied: sympy>=1.3 in /usr/local/lib/python3.11/dist-packages (from qiskit>=1.1.0->qiskit-aer) (1.13.1)\n",
            "Requirement already satisfied: dill>=0.3 in /usr/local/lib/python3.11/dist-packages (from qiskit>=1.1.0->qiskit-aer) (0.3.9)\n",
            "Requirement already satisfied: python-dateutil>=2.8.0 in /usr/local/lib/python3.11/dist-packages (from qiskit>=1.1.0->qiskit-aer) (2.8.2)\n",
            "Requirement already satisfied: stevedore>=3.0.0 in /usr/local/lib/python3.11/dist-packages (from qiskit>=1.1.0->qiskit-aer) (5.4.0)\n",
            "Requirement already satisfied: typing-extensions in /usr/local/lib/python3.11/dist-packages (from qiskit>=1.1.0->qiskit-aer) (4.12.2)\n",
            "Requirement already satisfied: symengine<0.14,>=0.11 in /usr/local/lib/python3.11/dist-packages (from qiskit>=1.1.0->qiskit-aer) (0.13.0)\n",
            "Requirement already satisfied: six>=1.5 in /usr/local/lib/python3.11/dist-packages (from python-dateutil>=2.8.0->qiskit>=1.1.0->qiskit-aer) (1.17.0)\n",
            "Requirement already satisfied: pbr>=2.0.0 in /usr/local/lib/python3.11/dist-packages (from stevedore>=3.0.0->qiskit>=1.1.0->qiskit-aer) (6.1.1)\n",
            "Requirement already satisfied: mpmath<1.4,>=1.1.0 in /usr/local/lib/python3.11/dist-packages (from sympy>=1.3->qiskit>=1.1.0->qiskit-aer) (1.3.0)\n",
            "Requirement already satisfied: setuptools in /usr/local/lib/python3.11/dist-packages (from pbr>=2.0.0->stevedore>=3.0.0->qiskit>=1.1.0->qiskit-aer) (75.1.0)\n",
            "Downloading qiskit_aer-0.16.1-cp311-cp311-manylinux_2_17_x86_64.manylinux2014_x86_64.whl (12.4 MB)\n",
            "\u001b[2K   \u001b[90m━━━━━━━━━━━━━━━━━━━━━━━━━━━━━━━━━━━━━━━━\u001b[0m \u001b[32m12.4/12.4 MB\u001b[0m \u001b[31m38.9 MB/s\u001b[0m eta \u001b[36m0:00:00\u001b[0m\n",
            "\u001b[?25hInstalling collected packages: qiskit-aer\n",
            "Successfully installed qiskit-aer-0.16.1\n"
          ]
        }
      ]
    },
    {
      "cell_type": "code",
      "execution_count": 5,
      "metadata": {
        "id": "rVXD9mrzsiX4"
      },
      "outputs": [],
      "source": [
        "import numpy as np\n",
        "#from qiskit import *\n",
        "import scipy as sp\n",
        "from qiskit import QuantumCircuit, transpile\n",
        "#Instead of importing from qiskit_aer directly, import from the simulator module.\n",
        "from qiskit_aer import Aer\n",
        "from qiskit_aer import AerSimulator # Importing the AerSimulator to be used with the execute function.\n",
        "import qiskit\n",
        "\n",
        "from tqdm import tqdm\n"
      ]
    },
    {
      "cell_type": "markdown",
      "source": [
        "# Função para gerar os circuitos escolhidos\n",
        "\n",
        "  todos os circuitos recebem os parâmetros em um numpy array, unidimensional e com valores de parâmetos diferentes\n",
        "\n",
        "######  ansatz1 = 4 parâmetros\n",
        "######  ansatz2 = 8 parâmetros\n",
        "######  ansatz3 = 28 parâmetros\n",
        "######  ansatz4 = 28 parâmetros\n",
        "######  ansatz5 = 11 parâmetros\n",
        "######  ansatz6 = 12 parâmetros\n",
        "######  ansatz7 = 11 parâmetros\n",
        "######  ansatz8 = 8 parâmetros\n",
        "######  ansatz9 = 12 parâmetros\n",
        "######  ansatz10 = 12 parâmetros\n"
      ],
      "metadata": {
        "id": "pdIOEqxNu3ff"
      }
    },
    {
      "cell_type": "code",
      "source": [
        "# os 10 circuitos escolhidos\n",
        "\n",
        "#todos os circuitos tem 4 qubits\n",
        "num_qubits = 4\n",
        "\n",
        "\"\"\"\n",
        "todos os circuitos recebem os parâmetros em um numpy array, unidimensional e com valores de parâmetos diferentes\n",
        "\n",
        "ansatz1 = 4 parâmetros\n",
        "ansatz2 = 8 parâmetros\n",
        "ansatz3 = 28 parâmetros\n",
        "ansatz4 = 28 parâmetros\n",
        "ansatz5 = 11 parâmetros\n",
        "ansatz6 = 12 parâmetros\n",
        "ansatz7 = 11 parâmetros\n",
        "ansatz8 = 4 parâmetros\n",
        "ansatz9 = 12 parâmetros\n",
        "ansatz10 = 12 parâmetros\n",
        "\n",
        "\"\"\"\n",
        "# o primeiro circuito particularmente, tem a maior métrica de espressibilidade e emaranhamento, o circuito 9\n",
        "def ansatz1(params):\n",
        "\n",
        "\n",
        "    ansatz = QuantumCircuit(num_qubits, num_qubits)\n",
        "\n",
        "    # aplicar Hadamard a todos os qubits\n",
        "    ansatz.h([0, 1, 2, 3])\n",
        "\n",
        "\n",
        "    # cnot em todos os quibits\n",
        "    ansatz.cz(2, 3)\n",
        "    ansatz.cz(1, 2)\n",
        "    ansatz.cz(0, 1)\n",
        "\n",
        "    #rx em todas as portas\n",
        "    for idx in range(num_qubits):\n",
        "\n",
        "      ansatz.rx(params[idx], idx)\n",
        "\n",
        "\n",
        "    return ansatz\n",
        "\n",
        "# o segundo circuito, alta expressibilidade e baixo emaranhamento, o circuito 1\n",
        "def ansatz2(params):\n",
        "\n",
        "    params = params.reshape(2, 4)\n",
        "\n",
        "    ansatz = QuantumCircuit(num_qubits, num_qubits)\n",
        "\n",
        "    for i in range(num_qubits):\n",
        "\n",
        "      ansatz.rx(params[0][i], i)\n",
        "\n",
        "    for i in range(num_qubits):\n",
        "\n",
        "      ansatz.rz(params[1][i], i)\n",
        "\n",
        "\n",
        "    return ansatz\n",
        "\n",
        "\n",
        "# o terceiro circuito, baixa expressibilidade e baixo emaranhamento, o circuito 5\n",
        "def ansatz3(params):\n",
        "\n",
        "    rx1 = params[:4]\n",
        "    rz1 = params[4:8]\n",
        "    crz = params[8:20]\n",
        "    rx2 = params[20:24]\n",
        "    rz2 = params[24:28]\n",
        "\n",
        "    ansatz = QuantumCircuit(num_qubits, num_qubits)\n",
        "\n",
        "    for i in range(num_qubits):\n",
        "\n",
        "      ansatz.rx(rx1[i], i)\n",
        "\n",
        "    for i in range(num_qubits):\n",
        "\n",
        "      ansatz.rz(rz1[i], i)\n",
        "\n",
        "    # portas de controle de rotação no eixo z\n",
        "\n",
        "    ansatz.crz(crz[0], 3, 2)\n",
        "    ansatz.crz(crz[1], 3, 1)\n",
        "    ansatz.crz(crz[2], 3, 0)\n",
        "    ansatz.crz(crz[3], 2, 3)\n",
        "    ansatz.crz(crz[4], 2, 1)\n",
        "    ansatz.crz(crz[5], 2, 0)\n",
        "    ansatz.crz(crz[6], 1, 3)\n",
        "    ansatz.crz(crz[7], 1, 2)\n",
        "    ansatz.crz(crz[8], 1, 0)\n",
        "    ansatz.crz(crz[9], 0, 3)\n",
        "    ansatz.crz(crz[10], 0, 2)\n",
        "    ansatz.crz(crz[11], 0, 1)\n",
        "\n",
        "    for i in range(num_qubits):\n",
        "\n",
        "      ansatz.rx(rx2[i], i)\n",
        "\n",
        "    for i in range(num_qubits):\n",
        "\n",
        "      ansatz.rz(rz2[i], i)\n",
        "\n",
        "    return ansatz\n",
        "\n",
        "# o quart circuito, baixa expressibilidade e alto emaranhamento, o circuito 6\n",
        "def ansatz4(params):\n",
        "\n",
        "    rx1 = params[:4]\n",
        "    rz1 = params[4:8]\n",
        "    crx = params[8:20]\n",
        "    rx2 = params[20:24]\n",
        "    rz2 = params[24:28]\n",
        "\n",
        "    ansatz = QuantumCircuit(num_qubits, num_qubits)\n",
        "\n",
        "    for i in range(num_qubits):\n",
        "\n",
        "      ansatz.rx(rx1[i], i)\n",
        "\n",
        "    for i in range(num_qubits):\n",
        "\n",
        "      ansatz.rz(rz1[i], i)\n",
        "\n",
        "    # portas de controle de rotação no eixo x\n",
        "\n",
        "    ansatz.crx(crx[0], 3, 2)\n",
        "    ansatz.crx(crx[1], 3, 1)\n",
        "    ansatz.crx(crx[2], 3, 0)\n",
        "    ansatz.crx(crx[3], 2, 3)\n",
        "    ansatz.crx(crx[4], 2, 1)\n",
        "    ansatz.crx(crx[5], 2, 0)\n",
        "    ansatz.crx(crx[6], 1, 3)\n",
        "    ansatz.crx(crx[7], 1, 2)\n",
        "    ansatz.crx(crx[8], 1, 0)\n",
        "    ansatz.crx(crx[9], 0, 3)\n",
        "    ansatz.crx(crx[10], 0, 2)\n",
        "    ansatz.crx(crx[11], 0, 1)\n",
        "\n",
        "    for i in range(num_qubits):\n",
        "\n",
        "      ansatz.rx(rx2[i], i)\n",
        "\n",
        "    for i in range(num_qubits):\n",
        "\n",
        "      ansatz.rz(rz2[i], i)\n",
        "\n",
        "    return ansatz\n",
        "\n",
        "# quinto circuito, média expressibilidade e médio emaranhamento, circuito 4\n",
        "\n",
        "def ansatz5(params):\n",
        "\n",
        "    rx = params[:4]\n",
        "    rz = params[4:8]\n",
        "    crx = params[8:11]\n",
        "\n",
        "    ansatz = QuantumCircuit(num_qubits, num_qubits)\n",
        "\n",
        "    for i in range(num_qubits):\n",
        "\n",
        "      ansatz.rx(rx[i], i)\n",
        "\n",
        "    for i in range(num_qubits):\n",
        "\n",
        "      ansatz.rz(rz[i], i)\n",
        "\n",
        "    ansatz.crx(crx[0], 3, 2)\n",
        "    ansatz.crx(crx[1], 2, 1)\n",
        "    ansatz.crx(crx[2], 1, 0)\n",
        "\n",
        "\n",
        "    return ansatz\n",
        "\n",
        "# sexto circuito, médio expressibilidade e emaranhamento alto, circuito 11\n",
        "\n",
        "def ansatz6(params):\n",
        "\n",
        "    ansatz = QuantumCircuit(num_qubits, num_qubits)\n",
        "\n",
        "    rx = params[:4]\n",
        "    rz = params[4:8]\n",
        "    ry_rz = params[8:12]\n",
        "\n",
        "    for i in range(num_qubits):\n",
        "\n",
        "      ansatz.rx(rx[i], i)\n",
        "\n",
        "    for i in range(num_qubits):\n",
        "\n",
        "      ansatz.rz(rz[i], i)\n",
        "\n",
        "\n",
        "    ansatz.cx(1, 0)\n",
        "    ansatz.cx(3, 2)\n",
        "    ansatz.ry(ry_rz[0], 1)\n",
        "    ansatz.ry(ry_rz[1], 2)\n",
        "    ansatz.rz(ry_rz[2], 1)\n",
        "    ansatz.rz(ry_rz[3], 1)\n",
        "    ansatz.cx(2, 1)\n",
        "\n",
        "\n",
        "    return ansatz\n",
        "\n",
        "# sétimo circuito, alta expressabilidade mas com emaranhamento mais baixo que o circuito 1, circuito 16\n",
        "\n",
        "def ansatz7(params):\n",
        "\n",
        "    ansatz = QuantumCircuit(num_qubits, num_qubits)\n",
        "\n",
        "    rx = params[:4]\n",
        "    rz = params[4:8]\n",
        "    crz = params[8:11]\n",
        "\n",
        "    for i in range(num_qubits):\n",
        "\n",
        "      ansatz.rx(rx[i], i)\n",
        "\n",
        "    for i in range(num_qubits):\n",
        "\n",
        "      ansatz.rz(rz[i], i)\n",
        "\n",
        "    ansatz.crz(crz[0], 1, 0)\n",
        "    ansatz.crz(crz[1], 3, 2)\n",
        "    ansatz.crz(crz[2], 2, 1)\n",
        "\n",
        "    return ansatz\n",
        "\n",
        "# oitavo circuito, alta expressibilidade e alto emaranhamento, mas expressibilidade muito menor que o circuito 9, circuito 2\n",
        "\n",
        "def ansatz8(params):\n",
        "\n",
        "    ansatz = QuantumCircuit(num_qubits, num_qubits)\n",
        "\n",
        "    params = params.reshape(2, 4)\n",
        "\n",
        "    for i in range(num_qubits):\n",
        "\n",
        "      ansatz.rx(params[0][i], i)\n",
        "\n",
        "    for i in range(num_qubits):\n",
        "\n",
        "      ansatz.rz(params[1][i], i)\n",
        "\n",
        "\n",
        "    ansatz.cx(3, 2)\n",
        "    ansatz.cx(2, 1)\n",
        "    ansatz.cx(1, 0)\n",
        "\n",
        "    return ansatz\n",
        "\n",
        "# nono circuito, alta expressabilidade e médio emaranhamento, circuito 12\n",
        "\n",
        "def ansatz9(params):\n",
        "\n",
        "    ansatz = QuantumCircuit(num_qubits, num_qubits)\n",
        "\n",
        "    rx = params[:4]\n",
        "    rz = params[4:8]\n",
        "    ry_rz = params[8:12]\n",
        "\n",
        "    for i in range(num_qubits):\n",
        "\n",
        "      ansatz.rx(rx[i], i)\n",
        "\n",
        "    for i in range(num_qubits):\n",
        "\n",
        "      ansatz.rz(rz[i], i)\n",
        "\n",
        "\n",
        "    ansatz.cz(1, 0)\n",
        "    ansatz.cz(3, 2)\n",
        "    ansatz.ry(ry_rz[0], 1)\n",
        "    ansatz.ry(ry_rz[1], 2)\n",
        "    ansatz.rz(ry_rz[2], 1)\n",
        "    ansatz.rz(ry_rz[3], 2)\n",
        "    ansatz.cz(2, 1)\n",
        "\n",
        "    return ansatz\n",
        "\n",
        "\n",
        "# décimo circuito, baixa expressibilidade e baixo emaranhamento, circuito 19\n",
        "\n",
        "def ansatz10(params):\n",
        "\n",
        "    ansatz = QuantumCircuit(num_qubits, num_qubits)\n",
        "\n",
        "    rx = params[:4]\n",
        "    rz = params[4:8]\n",
        "    crz = params[8:12]\n",
        "\n",
        "    for i in range(num_qubits):\n",
        "\n",
        "      ansatz.rx(rx[i], i)\n",
        "\n",
        "    for i in range(num_qubits):\n",
        "\n",
        "      ansatz.rz(rz[i], i)\n",
        "\n",
        "    ansatz.crz(crz[0], 3, 0)\n",
        "    ansatz.crz(crz[1], 2, 3)\n",
        "    ansatz.crz(crz[2], 1, 2)\n",
        "    ansatz.crz(crz[3], 0, 1)\n",
        "\n",
        "    return ansatz\n",
        "\n"
      ],
      "metadata": {
        "id": "qQk_QIDbq470"
      },
      "execution_count": 6,
      "outputs": []
    },
    {
      "cell_type": "markdown",
      "source": [
        "# Plotando os circuitos"
      ],
      "metadata": {
        "id": "GeygF0_Evg4L"
      }
    },
    {
      "cell_type": "code",
      "execution_count": 13,
      "metadata": {
        "id": "-vKDHnfxuh2Q",
        "colab": {
          "base_uri": "https://localhost:8080/",
          "height": 384
        },
        "outputId": "7a22876a-9cc0-46e6-b3c5-72a0aa9107b6"
      },
      "outputs": [
        {
          "output_type": "execute_result",
          "data": {
            "text/plain": [
              "<Figure size 538.33x451.5 with 1 Axes>"
            ],
            "image/png": "[encoded data removed]"
          },
          "metadata": {},
          "execution_count": 13
        }
      ],
      "source": [
        "ansatz1([-np.pi, np.pi, np.pi/2, np.pi/3]).draw('mpl')"
      ]
    },
    {
      "cell_type": "code",
      "execution_count": 14,
      "metadata": {
        "colab": {
          "base_uri": "https://localhost:8080/",
          "height": 384
        },
        "id": "lUF9iZYpuhER",
        "outputId": "3be1132c-4a7f-4915-a660-3d2ad8c47ce5"
      },
      "outputs": [
        {
          "output_type": "execute_result",
          "data": {
            "text/plain": [
              "<Figure size 287.496x451.5 with 1 Axes>"
            ],
            "image/png": "[encoded data removed]"
          },
          "metadata": {},
          "execution_count": 14
        }
      ],
      "source": [
        "ansatz2(np.array([-np.pi, np.pi, np.pi/2, np.pi/3, -np.pi, np.pi, np.pi/2, np.pi/3])).draw('mpl')"
      ]
    },
    {
      "cell_type": "code",
      "execution_count": 15,
      "metadata": {
        "colab": {
          "base_uri": "https://localhost:8080/",
          "height": 371
        },
        "id": "5DZCL1ojvIad",
        "outputId": "dafcb516-724b-42be-9907-6c8cbe176ca8"
      },
      "outputs": [
        {
          "output_type": "execute_result",
          "data": {
            "text/plain": [
              "<Figure size 1458.05x451.5 with 1 Axes>"
            ],
            "image/png": "[encoded data removed]"
          },
          "metadata": {},
          "execution_count": 15
        }
      ],
      "source": [
        "ansatz3(np.random.uniform(-np.pi, np.pi, 28)).draw('mpl')"
      ]
    },
    {
      "cell_type": "code",
      "source": [
        "ansatz4(np.random.uniform(-np.pi, np.pi, 28)).draw('mpl')"
      ],
      "metadata": {
        "colab": {
          "base_uri": "https://localhost:8080/",
          "height": 371
        },
        "id": "b2xN5fx8IQRV",
        "outputId": "8af8d22f-ef8e-47ed-87ac-8a93d25481bf"
      },
      "execution_count": 16,
      "outputs": [
        {
          "output_type": "execute_result",
          "data": {
            "text/plain": [
              "<Figure size 1458.05x451.5 with 1 Axes>"
            ],
            "image/png": "[encoded data removed]"
          },
          "metadata": {},
          "execution_count": 16
        }
      ]
    },
    {
      "cell_type": "code",
      "source": [
        "ansatz5(np.random.uniform(-np.pi, np.pi, 11)).draw('mpl')"
      ],
      "metadata": {
        "colab": {
          "base_uri": "https://localhost:8080/",
          "height": 384
        },
        "id": "i5oSKvuFIhOu",
        "outputId": "5021d23d-6f00-49d9-8ce0-fb91c9d3e331"
      },
      "execution_count": 17,
      "outputs": [
        {
          "output_type": "execute_result",
          "data": {
            "text/plain": [
              "<Figure size 538.33x451.5 with 1 Axes>"
            ],
            "image/png": "[encoded data removed]"
          },
          "metadata": {},
          "execution_count": 17
        }
      ]
    },
    {
      "cell_type": "code",
      "source": [
        "ansatz6(np.random.uniform(-np.pi, np.pi, 12)).draw('mpl')"
      ],
      "metadata": {
        "colab": {
          "base_uri": "https://localhost:8080/",
          "height": 384
        },
        "id": "2dnObSDhJJQJ",
        "outputId": "8202bde3-ac75-4c02-9ac2-e1b59040fdf1"
      },
      "execution_count": 18,
      "outputs": [
        {
          "output_type": "execute_result",
          "data": {
            "text/plain": [
              "<Figure size 705.552x451.5 with 1 Axes>"
            ],
            "image/png": "[encoded data removed]"
          },
          "metadata": {},
          "execution_count": 18
        }
      ]
    },
    {
      "cell_type": "code",
      "source": [
        "ansatz7(np.random.uniform(-np.pi, np.pi, 11)).draw('mpl')"
      ],
      "metadata": {
        "colab": {
          "base_uri": "https://localhost:8080/",
          "height": 384
        },
        "id": "Q8Nqp0-KJUBP",
        "outputId": "177a1949-87a3-43d7-8757-b669efee4b20"
      },
      "execution_count": 19,
      "outputs": [
        {
          "output_type": "execute_result",
          "data": {
            "text/plain": [
              "<Figure size 454.719x451.5 with 1 Axes>"
            ],
            "image/png": "[encoded data removed]"
          },
          "metadata": {},
          "execution_count": 19
        }
      ]
    },
    {
      "cell_type": "code",
      "source": [
        "ansatz8(np.random.uniform(-np.pi, np.pi, 8)).draw('mpl')"
      ],
      "metadata": {
        "colab": {
          "base_uri": "https://localhost:8080/",
          "height": 384
        },
        "id": "meHlYi1XJdSW",
        "outputId": "2560f4c8-f74a-45c9-9688-3d5a34fde40c"
      },
      "execution_count": 20,
      "outputs": [
        {
          "output_type": "execute_result",
          "data": {
            "text/plain": [
              "<Figure size 538.33x451.5 with 1 Axes>"
            ],
            "image/png": "[encoded data removed]"
          },
          "metadata": {},
          "execution_count": 20
        }
      ]
    },
    {
      "cell_type": "code",
      "source": [
        "ansatz9(np.random.uniform(-np.pi, np.pi, 12)).draw('mpl')"
      ],
      "metadata": {
        "colab": {
          "base_uri": "https://localhost:8080/",
          "height": 384
        },
        "id": "ssVDg4lqJo9l",
        "outputId": "72656afa-cd72-47c7-a0e5-23534f41ad27"
      },
      "execution_count": 21,
      "outputs": [
        {
          "output_type": "execute_result",
          "data": {
            "text/plain": [
              "<Figure size 621.941x451.5 with 1 Axes>"
            ],
            "image/png": "[encoded data removed]"
          },
          "metadata": {},
          "execution_count": 21
        }
      ]
    },
    {
      "cell_type": "code",
      "source": [
        "ansatz10(np.random.uniform(-np.pi, np.pi, 12)).draw('mpl')"
      ],
      "metadata": {
        "colab": {
          "base_uri": "https://localhost:8080/",
          "height": 384
        },
        "id": "zpCTObQuKkg-",
        "outputId": "4bbdf72f-7dd8-4f9a-d696-126c2baf68a3"
      },
      "execution_count": 22,
      "outputs": [
        {
          "output_type": "execute_result",
          "data": {
            "text/plain": [
              "<Figure size 621.941x451.5 with 1 Axes>"
            ],
            "image/png": "[encoded data removed]"
          },
          "metadata": {},
          "execution_count": 22
        }
      ]
    },
    {
      "cell_type": "code",
      "execution_count": 23,
      "metadata": {
        "id": "n7Buo7OksmPR"
      },
      "outputs": [],
      "source": [
        "def random_unitary(N):\n",
        "    \"\"\"\n",
        "        Return a Haar distributed random unitary from U(N)\n",
        "    \"\"\"\n",
        "\n",
        "\n",
        "    Z = np.random.randn(N, N) + 1.0j * np.random.randn(N, N)\n",
        "    [Q, R] = sp.linalg.qr(Z)\n",
        "    D = np.diag(np.diagonal(R) / np.abs(np.diagonal(R)))\n",
        "\n",
        "    return np.dot(Q, D)\n",
        "\n",
        "\n",
        "def haar_integral(num_qubits, samples):\n",
        "    \"\"\"\n",
        "        Return calculation of Haar Integral for a specified number of samples.\n",
        "    \"\"\"\n",
        "\n",
        "\n",
        "    N = 2**num_qubits\n",
        "    randunit_density = np.zeros((N, N), dtype=complex)\n",
        "\n",
        "\n",
        "    zero_state = np.zeros(N, dtype=complex)\n",
        "    zero_state[0] = 1\n",
        "\n",
        "\n",
        "\n",
        "    for _ in range(samples):\n",
        "      A = np.matmul(zero_state, random_unitary(N)).reshape(-1,1)\n",
        "      randunit_density += np.kron(A, A.conj().T)\n",
        "\n",
        "    randunit_density/=samples\n",
        "\n",
        "    return randunit_density\n",
        "\n",
        "\n",
        "\n",
        "def pqc_integral(num_qubits, ansatze, size, samples):\n",
        "\n",
        "    \"\"\"\n",
        "        Return calculation of Integral for a PQC over the uniformly sampled\n",
        "        the parameters θ for the specified number of samples.\n",
        "    \"\"\"\n",
        "\n",
        "\n",
        "    N = num_qubits\n",
        "    randunit_density = np.zeros((2**N, 2**N), dtype=complex)\n",
        "\n",
        "\n",
        "    for _ in range(samples):\n",
        "\n",
        "      params = np.random.uniform(-np.pi, np.pi, size)\n",
        "      ansatz = ansatze(params, N)\n",
        "      result = execute(ansatz,\n",
        "\n",
        "      backend=BasicAer.get_backend('statevector_simulator')).result()\n",
        "\n",
        "      U = result.get_statevector(ansatz, decimals=5).reshape(-1,1)\n",
        "      randunit_density += np.kron(U, U.conj().T)\n",
        "\n",
        "    return randunit_density/samples"
      ]
    },
    {
      "cell_type": "markdown",
      "source": [
        "# Medindo expressibilidade e emaranhamento dos circuitos"
      ],
      "metadata": {
        "id": "XevrAx55wx9L"
      }
    },
    {
      "cell_type": "code",
      "source": [
        "import numpy as np\n",
        "from qiskit import transpile\n",
        "from qiskit import QuantumCircuit\n",
        "from qiskit_aer import Aer\n",
        "from qiskit.quantum_info import partial_trace, Statevector\n",
        "\n",
        "\n",
        "# Function to generate a random unitary matrix\n",
        "def random_unitary(dim):\n",
        "    \"\"\"Generate a random unitary matrix of dimension dim using QR decomposition.\"\"\"\n",
        "    Z = np.random.randn(dim, dim) + 1j * np.random.randn(dim, dim)\n",
        "    Q, R = np.linalg.qr(Z)\n",
        "    d = np.diagonal(R)\n",
        "    Q *= d / np.abs(d)\n",
        "    return Q\n",
        "\n",
        "# Haar Integral Calculation\n",
        "def haar_integral(num_qubits, samples):\n",
        "    \"\"\"\n",
        "    Return the calculation of Haar Integral for a specified number of samples.\n",
        "    \"\"\"\n",
        "    N = 2 ** num_qubits\n",
        "    randunit_density = np.zeros((N, N), dtype=complex)\n",
        "\n",
        "    zero_state = np.zeros(N, dtype=complex)\n",
        "    zero_state[0] = 1\n",
        "\n",
        "    for _ in tqdm(range(samples), desc=\"Calculando Haar Integral\"):\n",
        "        # Generate random unitary\n",
        "        unitary = random_unitary(N)\n",
        "        # Apply unitary to the zero state\n",
        "        A = np.matmul(zero_state, unitary).reshape(-1, 1)\n",
        "        # Accumulate density matrix\n",
        "        randunit_density += np.kron(A, A.conj().T)\n",
        "\n",
        "    # Normalize by number of samples\n",
        "    randunit_density /= samples\n",
        "    return randunit_density\n",
        "\n",
        "# PQC Integral Calculation\n",
        "def pqc_integral(num_qubits, ansatze, size, samples):\n",
        "    \"\"\"\n",
        "    Return the calculation of Integral for a PQC over uniformly sampled\n",
        "    parameters θ for the specified number of samples.\n",
        "    \"\"\"\n",
        "    N = num_qubits\n",
        "    randunit_density = np.zeros((2 ** N, 2 ** N), dtype=complex)\n",
        "\n",
        "    for _ in  tqdm(range(samples), desc=\"Calculando PQC Integral\"):\n",
        "        # Sample random parameters\n",
        "        params = np.random.uniform(-np.pi, np.pi, size)\n",
        "        # Create the ansatz circuit with the given parameters\n",
        "        ansatz = ansatze(params)\n",
        "        # Simulate the circuit to get the statevector\n",
        "        statevector = Statevector.from_instruction(transpile(ansatz, Aer.get_backend(\"qasm_simulator\")))\n",
        "        # Reshape statevector to column vector\n",
        "        U = statevector.data.reshape(-1, 1)\n",
        "        # Accumulate density matrix\n",
        "        randunit_density += np.kron(U, U.conj().T)\n",
        "\n",
        "    # Normalize by number of samples\n",
        "    return randunit_density / samples\n"
      ],
      "metadata": {
        "id": "DL5DTTtPwtwJ"
      },
      "execution_count": 45,
      "outputs": []
    },
    {
      "cell_type": "code",
      "execution_count": 25,
      "metadata": {
        "colab": {
          "base_uri": "https://localhost:8080/"
        },
        "id": "U0tE6ch3tMeG",
        "outputId": "08b739d2-2e9e-4dc9-c68f-24ca57645118"
      },
      "outputs": [
        {
          "output_type": "stream",
          "name": "stderr",
          "text": [
            "Calculando Haar Integral: 100%|██████████| 2048/2048 [00:00<00:00, 6829.07it/s]\n",
            "Calculando PQC Integral: 100%|██████████| 2048/2048 [03:14<00:00, 10.54it/s]\n"
          ]
        },
        {
          "output_type": "execute_result",
          "data": {
            "text/plain": [
              "0.028469548802445056"
            ]
          },
          "metadata": {},
          "execution_count": 25
        }
      ],
      "source": [
        "np.linalg.norm(haar_integral(num_qubits, 2048) - pqc_integral(num_qubits, ansatz1, 4, 2048))"
      ]
    },
    {
      "cell_type": "code",
      "execution_count": 26,
      "metadata": {
        "colab": {
          "base_uri": "https://localhost:8080/"
        },
        "id": "gfNeIxtFuySU",
        "outputId": "7d18947a-60b5-46e7-ca09-09298e1f3c0d"
      },
      "outputs": [
        {
          "output_type": "stream",
          "name": "stderr",
          "text": [
            "Calculando Haar Integral: 100%|██████████| 2048/2048 [00:00<00:00, 6447.26it/s]\n",
            "Calculando PQC Integral: 100%|██████████| 2048/2048 [02:45<00:00, 12.34it/s]\n"
          ]
        },
        {
          "output_type": "execute_result",
          "data": {
            "text/plain": [
              "0.028792258347000006"
            ]
          },
          "metadata": {},
          "execution_count": 26
        }
      ],
      "source": [
        "np.linalg.norm(haar_integral(num_qubits, 2048) - pqc_integral(num_qubits, ansatz2, 8, 2048))"
      ]
    },
    {
      "cell_type": "code",
      "execution_count": 27,
      "metadata": {
        "colab": {
          "base_uri": "https://localhost:8080/"
        },
        "id": "mrQU6jK9u6Tf",
        "outputId": "ed36c385-38dc-41e2-eb58-ccd2602d11db"
      },
      "outputs": [
        {
          "output_type": "stream",
          "name": "stderr",
          "text": [
            "Calculando Haar Integral: 100%|██████████| 2048/2048 [00:00<00:00, 6818.41it/s]\n",
            "Calculando PQC Integral: 100%|██████████| 2048/2048 [02:48<00:00, 12.18it/s]\n"
          ]
        },
        {
          "output_type": "execute_result",
          "data": {
            "text/plain": [
              "0.03135940380478421"
            ]
          },
          "metadata": {},
          "execution_count": 27
        }
      ],
      "source": [
        "np.linalg.norm(haar_integral(num_qubits, 2048) - pqc_integral(num_qubits, ansatz3, 28, 2048))"
      ]
    },
    {
      "cell_type": "code",
      "source": [
        "np.linalg.norm(haar_integral(num_qubits, 2048) - pqc_integral(num_qubits, ansatz4, 28, 2048))"
      ],
      "metadata": {
        "colab": {
          "base_uri": "https://localhost:8080/"
        },
        "id": "0DSXh7K5xaC2",
        "outputId": "0d373377-e008-4519-81a7-c574b02c491d"
      },
      "execution_count": 28,
      "outputs": [
        {
          "output_type": "stream",
          "name": "stderr",
          "text": [
            "Calculando Haar Integral: 100%|██████████| 2048/2048 [00:00<00:00, 6744.08it/s]\n",
            "Calculando PQC Integral: 100%|██████████| 2048/2048 [02:49<00:00, 12.11it/s]\n"
          ]
        },
        {
          "output_type": "execute_result",
          "data": {
            "text/plain": [
              "0.031339079391543664"
            ]
          },
          "metadata": {},
          "execution_count": 28
        }
      ]
    },
    {
      "cell_type": "code",
      "source": [
        "np.linalg.norm(haar_integral(num_qubits, 2048) - pqc_integral(num_qubits, ansatz5, 11, 2048))"
      ],
      "metadata": {
        "colab": {
          "base_uri": "https://localhost:8080/"
        },
        "id": "ro64Ef5WxaqG",
        "outputId": "b2a2043f-e7a4-4b98-b07f-b49cc9111f86"
      },
      "execution_count": 29,
      "outputs": [
        {
          "output_type": "stream",
          "name": "stderr",
          "text": [
            "Calculando Haar Integral: 100%|██████████| 2048/2048 [00:00<00:00, 7028.61it/s]\n",
            "Calculando PQC Integral: 100%|██████████| 2048/2048 [02:48<00:00, 12.13it/s]\n"
          ]
        },
        {
          "output_type": "execute_result",
          "data": {
            "text/plain": [
              "0.03132657648080139"
            ]
          },
          "metadata": {},
          "execution_count": 29
        }
      ]
    },
    {
      "cell_type": "code",
      "source": [
        "np.linalg.norm(haar_integral(num_qubits, 2048) - pqc_integral(num_qubits, ansatz6, 12, 2048))"
      ],
      "metadata": {
        "colab": {
          "base_uri": "https://localhost:8080/"
        },
        "id": "8KyS0p8jxcfO",
        "outputId": "dbd529d1-5a41-49b5-e6ea-1f89970f6972"
      },
      "execution_count": 30,
      "outputs": [
        {
          "output_type": "stream",
          "name": "stderr",
          "text": [
            "Calculando Haar Integral: 100%|██████████| 2048/2048 [00:00<00:00, 7300.03it/s]\n",
            "Calculando PQC Integral: 100%|██████████| 2048/2048 [02:42<00:00, 12.64it/s]\n"
          ]
        },
        {
          "output_type": "execute_result",
          "data": {
            "text/plain": [
              "0.030821467565312306"
            ]
          },
          "metadata": {},
          "execution_count": 30
        }
      ]
    },
    {
      "cell_type": "code",
      "source": [
        "np.linalg.norm(haar_integral(num_qubits, 2048) - pqc_integral(num_qubits, ansatz7, 11, 2048))"
      ],
      "metadata": {
        "colab": {
          "base_uri": "https://localhost:8080/"
        },
        "id": "s8C_0HFZxdOO",
        "outputId": "1ef825ea-7189-43da-8365-6f72be76cbe8"
      },
      "execution_count": 31,
      "outputs": [
        {
          "output_type": "stream",
          "name": "stderr",
          "text": [
            "Calculando Haar Integral: 100%|██████████| 2048/2048 [00:00<00:00, 7616.40it/s]\n",
            "Calculando PQC Integral: 100%|██████████| 2048/2048 [02:44<00:00, 12.48it/s]\n"
          ]
        },
        {
          "output_type": "execute_result",
          "data": {
            "text/plain": [
              "0.030508150076672576"
            ]
          },
          "metadata": {},
          "execution_count": 31
        }
      ]
    },
    {
      "cell_type": "code",
      "source": [
        "np.linalg.norm(haar_integral(num_qubits, 2048) - pqc_integral(num_qubits, ansatz8, 8, 2048))"
      ],
      "metadata": {
        "colab": {
          "base_uri": "https://localhost:8080/"
        },
        "id": "krvTHtgbxd6-",
        "outputId": "54df0c3d-6e1a-4678-b1c2-32e553a96055"
      },
      "execution_count": 33,
      "outputs": [
        {
          "output_type": "stream",
          "name": "stderr",
          "text": [
            "Calculando Haar Integral: 100%|██████████| 2048/2048 [00:00<00:00, 7358.04it/s]\n",
            "Calculando PQC Integral: 100%|██████████| 2048/2048 [02:40<00:00, 12.79it/s]\n"
          ]
        },
        {
          "output_type": "execute_result",
          "data": {
            "text/plain": [
              "0.03129274486266812"
            ]
          },
          "metadata": {},
          "execution_count": 33
        }
      ]
    },
    {
      "cell_type": "code",
      "source": [
        "np.linalg.norm(haar_integral(num_qubits, 2048) - pqc_integral(num_qubits, ansatz9, 12, 2048))"
      ],
      "metadata": {
        "colab": {
          "base_uri": "https://localhost:8080/"
        },
        "id": "3gSNpmv4xem3",
        "outputId": "79e1e106-9d60-45af-9442-c598b26a97a7"
      },
      "execution_count": 34,
      "outputs": [
        {
          "output_type": "stream",
          "name": "stderr",
          "text": [
            "Calculando Haar Integral: 100%|██████████| 2048/2048 [00:00<00:00, 6970.60it/s]\n",
            "Calculando PQC Integral: 100%|██████████| 2048/2048 [02:40<00:00, 12.77it/s]\n"
          ]
        },
        {
          "output_type": "execute_result",
          "data": {
            "text/plain": [
              "0.030077791390916615"
            ]
          },
          "metadata": {},
          "execution_count": 34
        }
      ]
    },
    {
      "cell_type": "code",
      "source": [
        "np.linalg.norm(haar_integral(num_qubits, 2048) - pqc_integral(num_qubits, ansatz10, 12, 2048))"
      ],
      "metadata": {
        "colab": {
          "base_uri": "https://localhost:8080/"
        },
        "id": "i3AJSZJvxYBe",
        "outputId": "b437caa6-f908-4f6b-b898-4d1e783273aa"
      },
      "execution_count": 35,
      "outputs": [
        {
          "output_type": "stream",
          "name": "stderr",
          "text": [
            "Calculando Haar Integral: 100%|██████████| 2048/2048 [00:00<00:00, 4609.57it/s]\n",
            "Calculando PQC Integral: 100%|██████████| 2048/2048 [02:43<00:00, 12.51it/s]\n"
          ]
        },
        {
          "output_type": "execute_result",
          "data": {
            "text/plain": [
              "0.02960207495149189"
            ]
          },
          "metadata": {},
          "execution_count": 35
        }
      ]
    },
    {
      "cell_type": "code",
      "execution_count": 46,
      "metadata": {
        "id": "_ceEnsgBtwT3",
        "colab": {
          "base_uri": "https://localhost:8080/",
          "height": 122
        },
        "outputId": "c74fc194-5a3c-4d88-ce55-97860befde2b"
      },
      "outputs": [
        {
          "output_type": "execute_result",
          "data": {
            "text/plain": [
              "\"\\ndef meyer_wallach(circuit, num_qubits, size, sample=1024):\\n\\n\\n        Returns the meyer-wallach entanglement measure for the given circuit.\\n\\n\\n    res = np.zeros(sample, dtype=complex)\\n\\n    N = num_qubits\\n\\n\\n    for i in range(sample):\\n\\n        params = np.random.uniform(-np.pi, np.pi, size)\\n\\n        ansatz = circuit(params)\\n\\n        result = execute(ansatz, backend=BasicAer.get_backend('statevector_simulator')).result()\\n\\n        U = result.get_statevector(ansatz, decimals=5)\\n\\n        entropy = 0\\n\\n        qb = list(range(N))\\n\\n\\n        for j in range(N):\\n\\n            dens = qiskit.quantum_info.partial_trace(U, qb[:j]+qb[j+1:]).data\\n\\n            trace = np.trace(dens**2)\\n\\n            entropy += trace\\n\\n\\n        entropy /= N\\n\\n        res[i] = 1 - entropy\\n\\n\\n\\n    return 2*np.sum(res).real/sample\\n  \""
            ],
            "application/vnd.google.colaboratory.intrinsic+json": {
              "type": "string"
            }
          },
          "metadata": {},
          "execution_count": 46
        }
      ],
      "source": [
        "\"\"\"\n",
        "def meyer_wallach(circuit, num_qubits, size, sample=1024):\n",
        "\n",
        "\n",
        "        Returns the meyer-wallach entanglement measure for the given circuit.\n",
        "\n",
        "\n",
        "    res = np.zeros(sample, dtype=complex)\n",
        "\n",
        "    N = num_qubits\n",
        "\n",
        "\n",
        "    for i in range(sample):\n",
        "\n",
        "        params = np.random.uniform(-np.pi, np.pi, size)\n",
        "\n",
        "        ansatz = circuit(params)\n",
        "\n",
        "        result = execute(ansatz, backend=BasicAer.get_backend('statevector_simulator')).result()\n",
        "\n",
        "        U = result.get_statevector(ansatz, decimals=5)\n",
        "\n",
        "        entropy = 0\n",
        "\n",
        "        qb = list(range(N))\n",
        "\n",
        "\n",
        "        for j in range(N):\n",
        "\n",
        "            dens = qiskit.quantum_info.partial_trace(U, qb[:j]+qb[j+1:]).data\n",
        "\n",
        "            trace = np.trace(dens**2)\n",
        "\n",
        "            entropy += trace\n",
        "\n",
        "\n",
        "        entropy /= N\n",
        "\n",
        "        res[i] = 1 - entropy\n",
        "\n",
        "\n",
        "\n",
        "    return 2*np.sum(res).real/sample\n",
        "  \"\"\""
      ]
    },
    {
      "cell_type": "code",
      "source": [
        "\n",
        "def meyer_wallach(circuit, num_qubits, size, sample=1024):\n",
        "    res = np.zeros(sample)\n",
        "    N = num_qubits\n",
        "\n",
        "    # Usar o simulador de estado vetorial do Aer para melhor performance\n",
        "    backend = Aer.get_backend('statevector_simulator')\n",
        "\n",
        "    for i in range(sample):\n",
        "        params = np.random.uniform(-np.pi, np.pi, size)\n",
        "        ansatz = circuit(params)\n",
        "\n",
        "        # Obter o estado vetorial diretamente\n",
        "        U = Statevector(ansatz)\n",
        "\n",
        "        entropy = 0.0\n",
        "        for j in range(N):\n",
        "            # Manter o qubit j e traçar os outros\n",
        "            dens = partial_trace(U, [j])\n",
        "            purity = np.real(np.trace(dens.data @ dens.data))\n",
        "            entropy += purity\n",
        "\n",
        "        entropy /= N\n",
        "        res[i] = 1 - entropy\n",
        "\n",
        "    return 2 * np.mean(res)\n"
      ],
      "metadata": {
        "id": "cTyifXWy7S6p"
      },
      "execution_count": 49,
      "outputs": []
    },
    {
      "cell_type": "code",
      "execution_count": 50,
      "metadata": {
        "colab": {
          "base_uri": "https://localhost:8080/"
        },
        "id": "zUDX366it0v4",
        "outputId": "99a5a0b8-3318-4dc0-bf9e-c05ac5c852a4"
      },
      "outputs": [
        {
          "output_type": "execute_result",
          "data": {
            "text/plain": [
              "1.0000000000000013"
            ]
          },
          "metadata": {},
          "execution_count": 50
        }
      ],
      "source": [
        "meyer_wallach(ansatz1, num_qubits, 4)"
      ]
    },
    {
      "cell_type": "code",
      "execution_count": 51,
      "metadata": {
        "colab": {
          "base_uri": "https://localhost:8080/"
        },
        "id": "NNOsu8OLt12o",
        "outputId": "451624d5-02cd-400d-e100-12f830d683f3"
      },
      "outputs": [
        {
          "output_type": "execute_result",
          "data": {
            "text/plain": [
              "1.713039432527097e-17"
            ]
          },
          "metadata": {},
          "execution_count": 51
        }
      ],
      "source": [
        "meyer_wallach(ansatz2, num_qubits, 8)"
      ]
    },
    {
      "cell_type": "code",
      "execution_count": 52,
      "metadata": {
        "colab": {
          "base_uri": "https://localhost:8080/"
        },
        "id": "K2ghq_6NuRW4",
        "outputId": "ae22c398-19d0-4dc2-e135-0832e91aaaab"
      },
      "outputs": [
        {
          "output_type": "execute_result",
          "data": {
            "text/plain": [
              "0.27821163144512023"
            ]
          },
          "metadata": {},
          "execution_count": 52
        }
      ],
      "source": [
        "meyer_wallach(ansatz3, num_qubits, 28)"
      ]
    },
    {
      "cell_type": "code",
      "execution_count": 53,
      "metadata": {
        "id": "GaWhyNbYuSOY",
        "colab": {
          "base_uri": "https://localhost:8080/"
        },
        "outputId": "4247a0b7-8ee3-4daa-bdf8-189239e7d8c0"
      },
      "outputs": [
        {
          "output_type": "execute_result",
          "data": {
            "text/plain": [
              "0.6828072838612175"
            ]
          },
          "metadata": {},
          "execution_count": 53
        }
      ],
      "source": [
        "meyer_wallach(ansatz4, num_qubits, 28)"
      ]
    },
    {
      "cell_type": "code",
      "source": [
        "meyer_wallach(ansatz5, num_qubits, 11)"
      ],
      "metadata": {
        "colab": {
          "base_uri": "https://localhost:8080/"
        },
        "id": "uKmd3MLvywV8",
        "outputId": "81d279c0-6b6c-4527-ffad-23928349900c"
      },
      "execution_count": 54,
      "outputs": [
        {
          "output_type": "execute_result",
          "data": {
            "text/plain": [
              "0.30566298513634316"
            ]
          },
          "metadata": {},
          "execution_count": 54
        }
      ]
    },
    {
      "cell_type": "code",
      "source": [
        "meyer_wallach(ansatz6, num_qubits, 12)"
      ],
      "metadata": {
        "colab": {
          "base_uri": "https://localhost:8080/"
        },
        "id": "wpgd1Mocyw67",
        "outputId": "d9c7bc5b-d2aa-4b5e-da65-5058b8b20ec2"
      },
      "execution_count": 55,
      "outputs": [
        {
          "output_type": "execute_result",
          "data": {
            "text/plain": [
              "0.5288613023309559"
            ]
          },
          "metadata": {},
          "execution_count": 55
        }
      ]
    },
    {
      "cell_type": "code",
      "source": [
        "meyer_wallach(ansatz7, num_qubits, 11)"
      ],
      "metadata": {
        "colab": {
          "base_uri": "https://localhost:8080/"
        },
        "id": "Id_qYKHiyyOj",
        "outputId": "2a896a4b-efd5-47ee-e361-7f23c09e4155"
      },
      "execution_count": 56,
      "outputs": [
        {
          "output_type": "execute_result",
          "data": {
            "text/plain": [
              "0.1710174556449448"
            ]
          },
          "metadata": {},
          "execution_count": 56
        }
      ]
    },
    {
      "cell_type": "code",
      "source": [
        "meyer_wallach(ansatz8, num_qubits, 8)"
      ],
      "metadata": {
        "colab": {
          "base_uri": "https://localhost:8080/"
        },
        "id": "vCq5q3DayyjD",
        "outputId": "795a9c7f-e634-44aa-de28-0c61dffbac78"
      },
      "execution_count": 59,
      "outputs": [
        {
          "output_type": "execute_result",
          "data": {
            "text/plain": [
              "0.6160100546999295"
            ]
          },
          "metadata": {},
          "execution_count": 59
        }
      ]
    },
    {
      "cell_type": "code",
      "source": [
        "meyer_wallach(ansatz9, num_qubits, 12)"
      ],
      "metadata": {
        "colab": {
          "base_uri": "https://localhost:8080/"
        },
        "id": "LUWFkZsoyyyr",
        "outputId": "a83edc75-735b-484b-ff12-547fed498766"
      },
      "execution_count": 60,
      "outputs": [
        {
          "output_type": "execute_result",
          "data": {
            "text/plain": [
              "0.3952380924326666"
            ]
          },
          "metadata": {},
          "execution_count": 60
        }
      ]
    },
    {
      "cell_type": "code",
      "source": [
        "meyer_wallach(ansatz10, num_qubits, 12)"
      ],
      "metadata": {
        "colab": {
          "base_uri": "https://localhost:8080/"
        },
        "id": "rUYGpt02yzDr",
        "outputId": "c3a8165b-ebbf-4ad7-9124-fea9874b3521"
      },
      "execution_count": 61,
      "outputs": [
        {
          "output_type": "execute_result",
          "data": {
            "text/plain": [
              "0.22786388194386906"
            ]
          },
          "metadata": {},
          "execution_count": 61
        }
      ]
    }
  ],
  "metadata": {
    "colab": {
      "provenance": [],
      "gpuType": "T4"
    },
    "kernelspec": {
      "display_name": "Python 3",
      "name": "python3"
    },
    "language_info": {
      "name": "python"
    },
    "accelerator": "GPU"
  },
  "nbformat": 4,
  "nbformat_minor": 0
}