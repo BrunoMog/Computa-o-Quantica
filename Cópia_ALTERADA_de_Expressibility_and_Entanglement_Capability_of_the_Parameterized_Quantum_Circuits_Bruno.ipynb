{
  "cells": [
    {
      "cell_type": "markdown",
      "metadata": {
        "id": "view-in-github",
        "colab_type": "text"
      },
      "source": [
        "<a href=\"https://colab.research.google.com/github/BrunoMog/Computa-o-Quantica/blob/main/C%C3%B3pia_ALTERADA_de_Expressibility_and_Entanglement_Capability_of_the_Parameterized_Quantum_Circuits_Bruno.ipynb\" target=\"_parent\"><img src=\"https://colab.research.google.com/assets/colab-badge.svg\" alt=\"Open In Colab\"/></a>"
      ]
    },
    {
      "cell_type": "markdown",
      "metadata": {
        "id": "f1Ov47sYsjTV"
      },
      "source": [
        "https://obliviateandsurrender.github.io/blogs/expr.html"
      ]
    },
    {
      "cell_type": "code",
      "execution_count": 1,
      "metadata": {
        "colab": {
          "base_uri": "https://localhost:8080/"
        },
        "id": "EUl1svDkUIym",
        "outputId": "bec3bd53-2f5d-4a73-881b-932a51ea8023"
      },
      "outputs": [
        {
          "output_type": "stream",
          "name": "stdout",
          "text": [
            "Requirement already satisfied: sympy in /usr/local/lib/python3.11/dist-packages (1.13.1)\n",
            "Requirement already satisfied: mpmath<1.4,>=1.1.0 in /usr/local/lib/python3.11/dist-packages (from sympy) (1.3.0)\n"
          ]
        }
      ],
      "source": [
        "%pip install sympy"
      ]
    },
    {
      "cell_type": "code",
      "source": [
        "!pip install pylatexenc"
      ],
      "metadata": {
        "id": "7w3wwazooi3a",
        "colab": {
          "base_uri": "https://localhost:8080/"
        },
        "outputId": "9ca68b0a-7cce-479a-9e16-3764d7afca97"
      },
      "execution_count": 2,
      "outputs": [
        {
          "output_type": "stream",
          "name": "stdout",
          "text": [
            "Collecting pylatexenc\n",
            "  Downloading pylatexenc-2.10.tar.gz (162 kB)\n",
            "\u001b[?25l     \u001b[90m━━━━━━━━━━━━━━━━━━━━━━━━━━━━━━━━━━━━━━━━\u001b[0m \u001b[32m0.0/162.6 kB\u001b[0m \u001b[31m?\u001b[0m eta \u001b[36m-:--:--\u001b[0m\r\u001b[2K     \u001b[91m━━━━━━━━━━━━━━━━━━━━━━━━━━━━━━━━━━━━━\u001b[0m\u001b[91m╸\u001b[0m\u001b[90m━━\u001b[0m \u001b[32m153.6/162.6 kB\u001b[0m \u001b[31m4.5 MB/s\u001b[0m eta \u001b[36m0:00:01\u001b[0m\r\u001b[2K     \u001b[90m━━━━━━━━━━━━━━━━━━━━━━━━━━━━━━━━━━━━━━━━\u001b[0m \u001b[32m162.6/162.6 kB\u001b[0m \u001b[31m3.5 MB/s\u001b[0m eta \u001b[36m0:00:00\u001b[0m\n",
            "\u001b[?25h  Preparing metadata (setup.py) ... \u001b[?25l\u001b[?25hdone\n",
            "Building wheels for collected packages: pylatexenc\n",
            "  Building wheel for pylatexenc (setup.py) ... \u001b[?25l\u001b[?25hdone\n",
            "  Created wheel for pylatexenc: filename=pylatexenc-2.10-py3-none-any.whl size=136816 sha256=28895e45caf93dbaf4cea7a089b2db7c1a4c6e7ccbdb5acc963933e726772fc9\n",
            "  Stored in directory: /root/.cache/pip/wheels/b1/7a/33/9fdd892f784ed4afda62b685ae3703adf4c91aa0f524c28f03\n",
            "Successfully built pylatexenc\n",
            "Installing collected packages: pylatexenc\n",
            "Successfully installed pylatexenc-2.10\n"
          ]
        }
      ]
    },
    {
      "cell_type": "code",
      "execution_count": 3,
      "metadata": {
        "id": "uTnL-H_Us6E2",
        "colab": {
          "base_uri": "https://localhost:8080/"
        },
        "outputId": "b81481b7-102c-445f-ae67-684eaadb20f7"
      },
      "outputs": [
        {
          "output_type": "stream",
          "name": "stdout",
          "text": [
            "Collecting qiskit==0.46.3\n",
            "  Downloading qiskit-0.46.3-py3-none-any.whl.metadata (12 kB)\n",
            "Collecting qiskit-terra==0.46.3 (from qiskit==0.46.3)\n",
            "  Downloading qiskit_terra-0.46.3-cp38-abi3-manylinux_2_17_x86_64.manylinux2014_x86_64.whl.metadata (13 kB)\n",
            "Collecting rustworkx>=0.13.0 (from qiskit-terra==0.46.3->qiskit==0.46.3)\n",
            "  Downloading rustworkx-0.16.0-cp39-abi3-manylinux_2_17_x86_64.manylinux2014_x86_64.whl.metadata (10 kB)\n",
            "Requirement already satisfied: numpy<3,>=1.17 in /usr/local/lib/python3.11/dist-packages (from qiskit-terra==0.46.3->qiskit==0.46.3) (1.26.4)\n",
            "Requirement already satisfied: ply>=3.10 in /usr/local/lib/python3.11/dist-packages (from qiskit-terra==0.46.3->qiskit==0.46.3) (3.11)\n",
            "Requirement already satisfied: psutil>=5 in /usr/local/lib/python3.11/dist-packages (from qiskit-terra==0.46.3->qiskit==0.46.3) (5.9.5)\n",
            "Requirement already satisfied: scipy>=1.5 in /usr/local/lib/python3.11/dist-packages (from qiskit-terra==0.46.3->qiskit==0.46.3) (1.13.1)\n",
            "Requirement already satisfied: sympy>=1.3 in /usr/local/lib/python3.11/dist-packages (from qiskit-terra==0.46.3->qiskit==0.46.3) (1.13.1)\n",
            "Collecting dill>=0.3 (from qiskit-terra==0.46.3->qiskit==0.46.3)\n",
            "  Downloading dill-0.3.9-py3-none-any.whl.metadata (10 kB)\n",
            "Requirement already satisfied: python-dateutil>=2.8.0 in /usr/local/lib/python3.11/dist-packages (from qiskit-terra==0.46.3->qiskit==0.46.3) (2.8.2)\n",
            "Collecting stevedore>=3.0.0 (from qiskit-terra==0.46.3->qiskit==0.46.3)\n",
            "  Downloading stevedore-5.4.0-py3-none-any.whl.metadata (2.3 kB)\n",
            "Collecting symengine>=0.11 (from qiskit-terra==0.46.3->qiskit==0.46.3)\n",
            "  Downloading symengine-0.13.0-cp311-cp311-manylinux_2_17_x86_64.manylinux2014_x86_64.whl.metadata (1.2 kB)\n",
            "Requirement already satisfied: six>=1.5 in /usr/local/lib/python3.11/dist-packages (from python-dateutil>=2.8.0->qiskit-terra==0.46.3->qiskit==0.46.3) (1.17.0)\n",
            "Collecting pbr>=2.0.0 (from stevedore>=3.0.0->qiskit-terra==0.46.3->qiskit==0.46.3)\n",
            "  Downloading pbr-6.1.1-py2.py3-none-any.whl.metadata (3.4 kB)\n",
            "Requirement already satisfied: mpmath<1.4,>=1.1.0 in /usr/local/lib/python3.11/dist-packages (from sympy>=1.3->qiskit-terra==0.46.3->qiskit==0.46.3) (1.3.0)\n",
            "Requirement already satisfied: setuptools in /usr/local/lib/python3.11/dist-packages (from pbr>=2.0.0->stevedore>=3.0.0->qiskit-terra==0.46.3->qiskit==0.46.3) (75.1.0)\n",
            "Downloading qiskit-0.46.3-py3-none-any.whl (10.0 kB)\n",
            "Downloading qiskit_terra-0.46.3-cp38-abi3-manylinux_2_17_x86_64.manylinux2014_x86_64.whl (5.4 MB)\n",
            "\u001b[2K   \u001b[90m━━━━━━━━━━━━━━━━━━━━━━━━━━━━━━━━━━━━━━━━\u001b[0m \u001b[32m5.4/5.4 MB\u001b[0m \u001b[31m47.5 MB/s\u001b[0m eta \u001b[36m0:00:00\u001b[0m\n",
            "\u001b[?25hDownloading dill-0.3.9-py3-none-any.whl (119 kB)\n",
            "\u001b[2K   \u001b[90m━━━━━━━━━━━━━━━━━━━━━━━━━━━━━━━━━━━━━━━━\u001b[0m \u001b[32m119.4/119.4 kB\u001b[0m \u001b[31m10.5 MB/s\u001b[0m eta \u001b[36m0:00:00\u001b[0m\n",
            "\u001b[?25hDownloading rustworkx-0.16.0-cp39-abi3-manylinux_2_17_x86_64.manylinux2014_x86_64.whl (2.1 MB)\n",
            "\u001b[2K   \u001b[90m━━━━━━━━━━━━━━━━━━━━━━━━━━━━━━━━━━━━━━━━\u001b[0m \u001b[32m2.1/2.1 MB\u001b[0m \u001b[31m38.2 MB/s\u001b[0m eta \u001b[36m0:00:00\u001b[0m\n",
            "\u001b[?25hDownloading stevedore-5.4.0-py3-none-any.whl (49 kB)\n",
            "\u001b[2K   \u001b[90m━━━━━━━━━━━━━━━━━━━━━━━━━━━━━━━━━━━━━━━━\u001b[0m \u001b[32m49.5/49.5 kB\u001b[0m \u001b[31m2.9 MB/s\u001b[0m eta \u001b[36m0:00:00\u001b[0m\n",
            "\u001b[?25hDownloading symengine-0.13.0-cp311-cp311-manylinux_2_17_x86_64.manylinux2014_x86_64.whl (49.7 MB)\n",
            "\u001b[2K   \u001b[90m━━━━━━━━━━━━━━━━━━━━━━━━━━━━━━━━━━━━━━━━\u001b[0m \u001b[32m49.7/49.7 MB\u001b[0m \u001b[31m13.6 MB/s\u001b[0m eta \u001b[36m0:00:00\u001b[0m\n",
            "\u001b[?25hDownloading pbr-6.1.1-py2.py3-none-any.whl (108 kB)\n",
            "\u001b[2K   \u001b[90m━━━━━━━━━━━━━━━━━━━━━━━━━━━━━━━━━━━━━━━━\u001b[0m \u001b[32m109.0/109.0 kB\u001b[0m \u001b[31m9.2 MB/s\u001b[0m eta \u001b[36m0:00:00\u001b[0m\n",
            "\u001b[?25hInstalling collected packages: symengine, rustworkx, pbr, dill, stevedore, qiskit-terra, qiskit\n",
            "Successfully installed dill-0.3.9 pbr-6.1.1 qiskit-0.46.3 qiskit-terra-0.46.3 rustworkx-0.16.0 stevedore-5.4.0 symengine-0.13.0\n"
          ]
        }
      ],
      "source": [
        "!pip install qiskit==0.46.3"
      ]
    },
    {
      "cell_type": "code",
      "source": [
        "!pip install qiskit-aer==0.12.2"
      ],
      "metadata": {
        "id": "yKw7c8VQm_FP",
        "colab": {
          "base_uri": "https://localhost:8080/"
        },
        "outputId": "9b523ac6-b86f-407a-a367-a0cd9cf390f6"
      },
      "execution_count": 7,
      "outputs": [
        {
          "output_type": "stream",
          "name": "stdout",
          "text": [
            "Collecting qiskit-aer==0.12.2\n",
            "  Downloading qiskit_aer-0.12.2-cp311-cp311-manylinux_2_17_x86_64.manylinux2014_x86_64.whl.metadata (6.3 kB)\n",
            "Requirement already satisfied: qiskit-terra>=0.21.0 in /usr/local/lib/python3.11/dist-packages (from qiskit-aer==0.12.2) (0.46.3)\n",
            "Requirement already satisfied: numpy>=1.16.3 in /usr/local/lib/python3.11/dist-packages (from qiskit-aer==0.12.2) (1.26.4)\n",
            "Requirement already satisfied: scipy>=1.0 in /usr/local/lib/python3.11/dist-packages (from qiskit-aer==0.12.2) (1.13.1)\n",
            "Requirement already satisfied: rustworkx>=0.13.0 in /usr/local/lib/python3.11/dist-packages (from qiskit-terra>=0.21.0->qiskit-aer==0.12.2) (0.16.0)\n",
            "Requirement already satisfied: ply>=3.10 in /usr/local/lib/python3.11/dist-packages (from qiskit-terra>=0.21.0->qiskit-aer==0.12.2) (3.11)\n",
            "Requirement already satisfied: psutil>=5 in /usr/local/lib/python3.11/dist-packages (from qiskit-terra>=0.21.0->qiskit-aer==0.12.2) (5.9.5)\n",
            "Requirement already satisfied: sympy>=1.3 in /usr/local/lib/python3.11/dist-packages (from qiskit-terra>=0.21.0->qiskit-aer==0.12.2) (1.13.1)\n",
            "Requirement already satisfied: dill>=0.3 in /usr/local/lib/python3.11/dist-packages (from qiskit-terra>=0.21.0->qiskit-aer==0.12.2) (0.3.9)\n",
            "Requirement already satisfied: python-dateutil>=2.8.0 in /usr/local/lib/python3.11/dist-packages (from qiskit-terra>=0.21.0->qiskit-aer==0.12.2) (2.8.2)\n",
            "Requirement already satisfied: stevedore>=3.0.0 in /usr/local/lib/python3.11/dist-packages (from qiskit-terra>=0.21.0->qiskit-aer==0.12.2) (5.4.0)\n",
            "Requirement already satisfied: symengine>=0.11 in /usr/local/lib/python3.11/dist-packages (from qiskit-terra>=0.21.0->qiskit-aer==0.12.2) (0.13.0)\n",
            "Requirement already satisfied: six>=1.5 in /usr/local/lib/python3.11/dist-packages (from python-dateutil>=2.8.0->qiskit-terra>=0.21.0->qiskit-aer==0.12.2) (1.17.0)\n",
            "Requirement already satisfied: pbr>=2.0.0 in /usr/local/lib/python3.11/dist-packages (from stevedore>=3.0.0->qiskit-terra>=0.21.0->qiskit-aer==0.12.2) (6.1.1)\n",
            "Requirement already satisfied: mpmath<1.4,>=1.1.0 in /usr/local/lib/python3.11/dist-packages (from sympy>=1.3->qiskit-terra>=0.21.0->qiskit-aer==0.12.2) (1.3.0)\n",
            "Requirement already satisfied: setuptools in /usr/local/lib/python3.11/dist-packages (from pbr>=2.0.0->stevedore>=3.0.0->qiskit-terra>=0.21.0->qiskit-aer==0.12.2) (75.1.0)\n",
            "Downloading qiskit_aer-0.12.2-cp311-cp311-manylinux_2_17_x86_64.manylinux2014_x86_64.whl (12.8 MB)\n",
            "\u001b[2K   \u001b[90m━━━━━━━━━━━━━━━━━━━━━━━━━━━━━━━━━━━━━━━━\u001b[0m \u001b[32m12.8/12.8 MB\u001b[0m \u001b[31m99.4 MB/s\u001b[0m eta \u001b[36m0:00:00\u001b[0m\n",
            "\u001b[?25hInstalling collected packages: qiskit-aer\n",
            "Successfully installed qiskit-aer-0.12.2\n"
          ]
        }
      ]
    },
    {
      "cell_type": "code",
      "execution_count": 8,
      "metadata": {
        "id": "rVXD9mrzsiX4"
      },
      "outputs": [],
      "source": [
        "import numpy as np\n",
        "#from qiskit import *\n",
        "import scipy as sp\n",
        "from qiskit import QuantumCircuit, transpile\n",
        "#Instead of importing from qiskit_aer directly, import from the simulator module.\n",
        "from qiskit_aer import Aer\n",
        "from qiskit_aer import AerSimulator # Importing the AerSimulator to be used with the execute function.\n",
        "import qiskit\n",
        "from qiskit.quantum_info import Statevector, partial_trace\n",
        "from qiskit import execute\n",
        "from qiskit import BasicAer\n",
        "\n",
        "from tqdm import tqdm\n"
      ]
    },
    {
      "cell_type": "markdown",
      "source": [
        "# Função para gerar os circuitos escolhidos\n",
        "\n",
        "  todos os circuitos recebem os parâmetros em um numpy array, unidimensional e com valores de parâmetos diferentes\n",
        "\n",
        "######  ansatz1 = 4 parâmetros\n",
        "######  ansatz2 = 8 parâmetros\n",
        "######  ansatz3 = 28 parâmetros\n",
        "######  ansatz4 = 28 parâmetros\n",
        "######  ansatz5 = 11 parâmetros\n",
        "######  ansatz6 = 12 parâmetros\n",
        "######  ansatz7 = 11 parâmetros\n",
        "######  ansatz8 = 8 parâmetros\n",
        "######  ansatz9 = 12 parâmetros\n",
        "######  ansatz10 = 12 parâmetros\n"
      ],
      "metadata": {
        "id": "pdIOEqxNu3ff"
      }
    },
    {
      "cell_type": "code",
      "source": [
        "# os 10 circuitos escolhidos\n",
        "\n",
        "#todos os circuitos tem 4 qubits\n",
        "num_qubits = 4\n",
        "\n",
        "\"\"\"\n",
        "todos os circuitos recebem os parâmetros em um numpy array, unidimensional e com valores de parâmetos diferentes\n",
        "\n",
        "ansatz1 = 4 parâmetros\n",
        "ansatz2 = 8 parâmetros\n",
        "ansatz3 = 28 parâmetros\n",
        "ansatz4 = 28 parâmetros\n",
        "ansatz5 = 11 parâmetros\n",
        "ansatz6 = 12 parâmetros\n",
        "ansatz7 = 11 parâmetros\n",
        "ansatz8 = 4 parâmetros\n",
        "ansatz9 = 12 parâmetros\n",
        "ansatz10 = 12 parâmetros\n",
        "\n",
        "\"\"\"\n",
        "# o primeiro circuito particularmente, tem a maior métrica de espressibilidade e emaranhamento, o circuito 9\n",
        "def ansatz1(params):\n",
        "\n",
        "\n",
        "    ansatz = QuantumCircuit(num_qubits, num_qubits)\n",
        "\n",
        "    # aplicar Hadamard a todos os qubits\n",
        "    ansatz.h([0, 1, 2, 3])\n",
        "\n",
        "\n",
        "    # cnot em todos os quibits\n",
        "    ansatz.cz(2, 3)\n",
        "    ansatz.cz(1, 2)\n",
        "    ansatz.cz(0, 1)\n",
        "\n",
        "    #rx em todas as portas\n",
        "    for idx in range(num_qubits):\n",
        "\n",
        "      ansatz.rx(params[idx], idx)\n",
        "\n",
        "\n",
        "    return ansatz\n",
        "\n",
        "# o segundo circuito, alta expressibilidade e baixo emaranhamento, o circuito 1\n",
        "def ansatz2(params):\n",
        "\n",
        "    params = params.reshape(2, 4)\n",
        "\n",
        "    ansatz = QuantumCircuit(num_qubits, num_qubits)\n",
        "\n",
        "    for i in range(num_qubits):\n",
        "\n",
        "      ansatz.rx(params[0][i], i)\n",
        "\n",
        "    for i in range(num_qubits):\n",
        "\n",
        "      ansatz.rz(params[1][i], i)\n",
        "\n",
        "\n",
        "    return ansatz\n",
        "\n",
        "\n",
        "# o terceiro circuito, baixa expressibilidade e baixo emaranhamento, o circuito 5\n",
        "def ansatz3(params):\n",
        "\n",
        "    rx1 = params[:4]\n",
        "    rz1 = params[4:8]\n",
        "    crz = params[8:20]\n",
        "    rx2 = params[20:24]\n",
        "    rz2 = params[24:28]\n",
        "\n",
        "    ansatz = QuantumCircuit(num_qubits, num_qubits)\n",
        "\n",
        "    for i in range(num_qubits):\n",
        "\n",
        "      ansatz.rx(rx1[i], i)\n",
        "\n",
        "    for i in range(num_qubits):\n",
        "\n",
        "      ansatz.rz(rz1[i], i)\n",
        "\n",
        "    # portas de controle de rotação no eixo z\n",
        "\n",
        "    ansatz.crz(crz[0], 3, 2)\n",
        "    ansatz.crz(crz[1], 3, 1)\n",
        "    ansatz.crz(crz[2], 3, 0)\n",
        "    ansatz.crz(crz[3], 2, 3)\n",
        "    ansatz.crz(crz[4], 2, 1)\n",
        "    ansatz.crz(crz[5], 2, 0)\n",
        "    ansatz.crz(crz[6], 1, 3)\n",
        "    ansatz.crz(crz[7], 1, 2)\n",
        "    ansatz.crz(crz[8], 1, 0)\n",
        "    ansatz.crz(crz[9], 0, 3)\n",
        "    ansatz.crz(crz[10], 0, 2)\n",
        "    ansatz.crz(crz[11], 0, 1)\n",
        "\n",
        "    for i in range(num_qubits):\n",
        "\n",
        "      ansatz.rx(rx2[i], i)\n",
        "\n",
        "    for i in range(num_qubits):\n",
        "\n",
        "      ansatz.rz(rz2[i], i)\n",
        "\n",
        "    return ansatz\n",
        "\n",
        "# o quart circuito, baixa expressibilidade e alto emaranhamento, o circuito 6\n",
        "def ansatz4(params):\n",
        "\n",
        "    rx1 = params[:4]\n",
        "    rz1 = params[4:8]\n",
        "    crx = params[8:20]\n",
        "    rx2 = params[20:24]\n",
        "    rz2 = params[24:28]\n",
        "\n",
        "    ansatz = QuantumCircuit(num_qubits, num_qubits)\n",
        "\n",
        "    for i in range(num_qubits):\n",
        "\n",
        "      ansatz.rx(rx1[i], i)\n",
        "\n",
        "    for i in range(num_qubits):\n",
        "\n",
        "      ansatz.rz(rz1[i], i)\n",
        "\n",
        "    # portas de controle de rotação no eixo x\n",
        "\n",
        "    ansatz.crx(crx[0], 3, 2)\n",
        "    ansatz.crx(crx[1], 3, 1)\n",
        "    ansatz.crx(crx[2], 3, 0)\n",
        "    ansatz.crx(crx[3], 2, 3)\n",
        "    ansatz.crx(crx[4], 2, 1)\n",
        "    ansatz.crx(crx[5], 2, 0)\n",
        "    ansatz.crx(crx[6], 1, 3)\n",
        "    ansatz.crx(crx[7], 1, 2)\n",
        "    ansatz.crx(crx[8], 1, 0)\n",
        "    ansatz.crx(crx[9], 0, 3)\n",
        "    ansatz.crx(crx[10], 0, 2)\n",
        "    ansatz.crx(crx[11], 0, 1)\n",
        "\n",
        "    for i in range(num_qubits):\n",
        "\n",
        "      ansatz.rx(rx2[i], i)\n",
        "\n",
        "    for i in range(num_qubits):\n",
        "\n",
        "      ansatz.rz(rz2[i], i)\n",
        "\n",
        "    return ansatz\n",
        "\n",
        "# quinto circuito, média expressibilidade e médio emaranhamento, circuito 4\n",
        "\n",
        "def ansatz5(params):\n",
        "\n",
        "    rx = params[:4]\n",
        "    rz = params[4:8]\n",
        "    crx = params[8:11]\n",
        "\n",
        "    ansatz = QuantumCircuit(num_qubits, num_qubits)\n",
        "\n",
        "    for i in range(num_qubits):\n",
        "\n",
        "      ansatz.rx(rx[i], i)\n",
        "\n",
        "    for i in range(num_qubits):\n",
        "\n",
        "      ansatz.rz(rz[i], i)\n",
        "\n",
        "    ansatz.crx(crx[0], 3, 2)\n",
        "    ansatz.crx(crx[1], 2, 1)\n",
        "    ansatz.crx(crx[2], 1, 0)\n",
        "\n",
        "\n",
        "    return ansatz\n",
        "\n",
        "# sexto circuito, médio expressibilidade e emaranhamento alto, circuito 11\n",
        "\n",
        "def ansatz6(params):\n",
        "\n",
        "    ansatz = QuantumCircuit(num_qubits, num_qubits)\n",
        "\n",
        "    rx = params[:4]\n",
        "    rz = params[4:8]\n",
        "    ry_rz = params[8:12]\n",
        "\n",
        "    for i in range(num_qubits):\n",
        "\n",
        "      ansatz.rx(rx[i], i)\n",
        "\n",
        "    for i in range(num_qubits):\n",
        "\n",
        "      ansatz.rz(rz[i], i)\n",
        "\n",
        "\n",
        "    ansatz.cx(1, 0)\n",
        "    ansatz.cx(3, 2)\n",
        "    ansatz.ry(ry_rz[0], 1)\n",
        "    ansatz.ry(ry_rz[1], 2)\n",
        "    ansatz.rz(ry_rz[2], 1)\n",
        "    ansatz.rz(ry_rz[3], 1)\n",
        "    ansatz.cx(2, 1)\n",
        "\n",
        "\n",
        "    return ansatz\n",
        "\n",
        "# sétimo circuito, alta expressabilidade mas com emaranhamento mais baixo que o circuito 1, circuito 16\n",
        "\n",
        "def ansatz7(params):\n",
        "\n",
        "    ansatz = QuantumCircuit(num_qubits, num_qubits)\n",
        "\n",
        "    rx = params[:4]\n",
        "    rz = params[4:8]\n",
        "    crz = params[8:11]\n",
        "\n",
        "    for i in range(num_qubits):\n",
        "\n",
        "      ansatz.rx(rx[i], i)\n",
        "\n",
        "    for i in range(num_qubits):\n",
        "\n",
        "      ansatz.rz(rz[i], i)\n",
        "\n",
        "    ansatz.crz(crz[0], 1, 0)\n",
        "    ansatz.crz(crz[1], 3, 2)\n",
        "    ansatz.crz(crz[2], 2, 1)\n",
        "\n",
        "    return ansatz\n",
        "\n",
        "# oitavo circuito, alta expressibilidade e alto emaranhamento, mas expressibilidade muito menor que o circuito 9, circuito 2\n",
        "\n",
        "def ansatz8(params):\n",
        "\n",
        "    ansatz = QuantumCircuit(num_qubits, num_qubits)\n",
        "\n",
        "    params = params.reshape(2, 4)\n",
        "\n",
        "    for i in range(num_qubits):\n",
        "\n",
        "      ansatz.rx(params[0][i], i)\n",
        "\n",
        "    for i in range(num_qubits):\n",
        "\n",
        "      ansatz.rz(params[1][i], i)\n",
        "\n",
        "\n",
        "    ansatz.cx(3, 2)\n",
        "    ansatz.cx(2, 1)\n",
        "    ansatz.cx(1, 0)\n",
        "\n",
        "    return ansatz\n",
        "\n",
        "# nono circuito, alta expressabilidade e médio emaranhamento, circuito 12\n",
        "\n",
        "def ansatz9(params):\n",
        "\n",
        "    ansatz = QuantumCircuit(num_qubits, num_qubits)\n",
        "\n",
        "    rx = params[:4]\n",
        "    rz = params[4:8]\n",
        "    ry_rz = params[8:12]\n",
        "\n",
        "    for i in range(num_qubits):\n",
        "\n",
        "      ansatz.rx(rx[i], i)\n",
        "\n",
        "    for i in range(num_qubits):\n",
        "\n",
        "      ansatz.rz(rz[i], i)\n",
        "\n",
        "\n",
        "    ansatz.cz(1, 0)\n",
        "    ansatz.cz(3, 2)\n",
        "    ansatz.ry(ry_rz[0], 1)\n",
        "    ansatz.ry(ry_rz[1], 2)\n",
        "    ansatz.rz(ry_rz[2], 1)\n",
        "    ansatz.rz(ry_rz[3], 2)\n",
        "    ansatz.cz(2, 1)\n",
        "\n",
        "    return ansatz\n",
        "\n",
        "\n",
        "# décimo circuito, baixa expressibilidade e baixo emaranhamento, circuito 19\n",
        "\n",
        "def ansatz10(params):\n",
        "\n",
        "    ansatz = QuantumCircuit(num_qubits, num_qubits)\n",
        "\n",
        "    rx = params[:4]\n",
        "    rz = params[4:8]\n",
        "    crz = params[8:12]\n",
        "\n",
        "    for i in range(num_qubits):\n",
        "\n",
        "      ansatz.rx(rx[i], i)\n",
        "\n",
        "    for i in range(num_qubits):\n",
        "\n",
        "      ansatz.rz(rz[i], i)\n",
        "\n",
        "    ansatz.crz(crz[0], 3, 0)\n",
        "    ansatz.crz(crz[1], 2, 3)\n",
        "    ansatz.crz(crz[2], 1, 2)\n",
        "    ansatz.crz(crz[3], 0, 1)\n",
        "\n",
        "    return ansatz\n",
        "\n"
      ],
      "metadata": {
        "id": "qQk_QIDbq470"
      },
      "execution_count": 9,
      "outputs": []
    },
    {
      "cell_type": "markdown",
      "source": [
        "# Plotando os circuitos"
      ],
      "metadata": {
        "id": "GeygF0_Evg4L"
      }
    },
    {
      "cell_type": "code",
      "execution_count": 10,
      "metadata": {
        "id": "-vKDHnfxuh2Q",
        "colab": {
          "base_uri": "https://localhost:8080/",
          "height": 439
        },
        "outputId": "284dbdf5-760a-40c6-c577-e63f637613fd"
      },
      "outputs": [
        {
          "output_type": "stream",
          "name": "stderr",
          "text": [
            "/usr/local/lib/python3.11/dist-packages/qiskit/visualization/circuit/matplotlib.py:266: FutureWarning: The default matplotlib drawer scheme will be changed to \"iqp\" in a following release. To silence this warning, specify the current default explicitly as style=\"clifford\", or the new default as style=\"iqp\".\n",
            "  self._style, def_font_ratio = load_style(self._style)\n"
          ]
        },
        {
          "output_type": "execute_result",
          "data": {
            "text/plain": [
              "<Figure size 538.33x451.5 with 1 Axes>"
            ],
            "image/png": "[encoded data removed]"
          },
          "metadata": {},
          "execution_count": 10
        }
      ],
      "source": [
        "ansatz1([-np.pi, np.pi, np.pi/2, np.pi/3]).draw('mpl')"
      ]
    },
    {
      "cell_type": "code",
      "execution_count": 11,
      "metadata": {
        "colab": {
          "base_uri": "https://localhost:8080/",
          "height": 384
        },
        "id": "lUF9iZYpuhER",
        "outputId": "b16270db-eb22-4986-a48c-dfbadab2570b"
      },
      "outputs": [
        {
          "output_type": "execute_result",
          "data": {
            "text/plain": [
              "<Figure size 287.496x451.5 with 1 Axes>"
            ],
            "image/png": "[encoded data removed]"
          },
          "metadata": {},
          "execution_count": 11
        }
      ],
      "source": [
        "ansatz2(np.array([-np.pi, np.pi, np.pi/2, np.pi/3, -np.pi, np.pi, np.pi/2, np.pi/3])).draw('mpl')"
      ]
    },
    {
      "cell_type": "code",
      "execution_count": 12,
      "metadata": {
        "colab": {
          "base_uri": "https://localhost:8080/",
          "height": 371
        },
        "id": "5DZCL1ojvIad",
        "outputId": "e9ea423f-b97c-4125-ec43-abdafdd66f25"
      },
      "outputs": [
        {
          "output_type": "execute_result",
          "data": {
            "text/plain": [
              "<Figure size 1458.05x451.5 with 1 Axes>"
            ],
            "image/png": "[encoded data removed]"
          },
          "metadata": {},
          "execution_count": 12
        }
      ],
      "source": [
        "ansatz3(np.random.uniform(-np.pi, np.pi, 28)).draw('mpl')"
      ]
    },
    {
      "cell_type": "code",
      "source": [
        "ansatz4(np.random.uniform(-np.pi, np.pi, 28)).draw('mpl')"
      ],
      "metadata": {
        "colab": {
          "base_uri": "https://localhost:8080/",
          "height": 371
        },
        "id": "b2xN5fx8IQRV",
        "outputId": "740566fd-3b54-4975-ae40-406557f4dad7"
      },
      "execution_count": 13,
      "outputs": [
        {
          "output_type": "execute_result",
          "data": {
            "text/plain": [
              "<Figure size 1458.05x451.5 with 1 Axes>"
            ],
            "image/png": "[encoded data removed]"
          },
          "metadata": {},
          "execution_count": 13
        }
      ]
    },
    {
      "cell_type": "code",
      "source": [
        "ansatz5(np.random.uniform(-np.pi, np.pi, 11)).draw('mpl')"
      ],
      "metadata": {
        "colab": {
          "base_uri": "https://localhost:8080/",
          "height": 384
        },
        "id": "i5oSKvuFIhOu",
        "outputId": "90e33279-7d01-4a46-9538-caed085b80ec"
      },
      "execution_count": 14,
      "outputs": [
        {
          "output_type": "execute_result",
          "data": {
            "text/plain": [
              "<Figure size 538.33x451.5 with 1 Axes>"
            ],
            "image/png": "[encoded data removed]"
          },
          "metadata": {},
          "execution_count": 14
        }
      ]
    },
    {
      "cell_type": "code",
      "source": [
        "ansatz6(np.random.uniform(-np.pi, np.pi, 12)).draw('mpl')"
      ],
      "metadata": {
        "colab": {
          "base_uri": "https://localhost:8080/",
          "height": 384
        },
        "id": "2dnObSDhJJQJ",
        "outputId": "c4c9d555-ead1-4442-d1e2-5401e5735c3a"
      },
      "execution_count": 15,
      "outputs": [
        {
          "output_type": "execute_result",
          "data": {
            "text/plain": [
              "<Figure size 705.552x451.5 with 1 Axes>"
            ],
            "image/png": "[encoded data removed]"
          },
          "metadata": {},
          "execution_count": 15
        }
      ]
    },
    {
      "cell_type": "code",
      "source": [
        "ansatz7(np.random.uniform(-np.pi, np.pi, 11)).draw('mpl')"
      ],
      "metadata": {
        "colab": {
          "base_uri": "https://localhost:8080/",
          "height": 384
        },
        "id": "Q8Nqp0-KJUBP",
        "outputId": "11ca7f2c-8c1b-4953-c5cc-0d8eccaadf2c"
      },
      "execution_count": 16,
      "outputs": [
        {
          "output_type": "execute_result",
          "data": {
            "text/plain": [
              "<Figure size 454.719x451.5 with 1 Axes>"
            ],
            "image/png": "[encoded data removed]"
          },
          "metadata": {},
          "execution_count": 16
        }
      ]
    },
    {
      "cell_type": "code",
      "source": [
        "ansatz8(np.random.uniform(-np.pi, np.pi, 8)).draw('mpl')"
      ],
      "metadata": {
        "colab": {
          "base_uri": "https://localhost:8080/",
          "height": 384
        },
        "id": "meHlYi1XJdSW",
        "outputId": "2cc04c2a-7fe6-44f9-9382-0311c0218e19"
      },
      "execution_count": 17,
      "outputs": [
        {
          "output_type": "execute_result",
          "data": {
            "text/plain": [
              "<Figure size 538.33x451.5 with 1 Axes>"
            ],
            "image/png": "[encoded data removed]"
          },
          "metadata": {},
          "execution_count": 17
        }
      ]
    },
    {
      "cell_type": "code",
      "source": [
        "ansatz9(np.random.uniform(-np.pi, np.pi, 12)).draw('mpl')"
      ],
      "metadata": {
        "colab": {
          "base_uri": "https://localhost:8080/",
          "height": 384
        },
        "id": "ssVDg4lqJo9l",
        "outputId": "d7667698-9a4b-4c72-e169-f46665fb7f2f"
      },
      "execution_count": 18,
      "outputs": [
        {
          "output_type": "execute_result",
          "data": {
            "text/plain": [
              "<Figure size 621.941x451.5 with 1 Axes>"
            ],
            "image/png": "[encoded data removed]"
          },
          "metadata": {},
          "execution_count": 18
        }
      ]
    },
    {
      "cell_type": "code",
      "source": [
        "ansatz10(np.random.uniform(-np.pi, np.pi, 12)).draw('mpl')"
      ],
      "metadata": {
        "colab": {
          "base_uri": "https://localhost:8080/",
          "height": 384
        },
        "id": "zpCTObQuKkg-",
        "outputId": "55177e98-9090-4c5b-e783-c796e545dc2c"
      },
      "execution_count": 19,
      "outputs": [
        {
          "output_type": "execute_result",
          "data": {
            "text/plain": [
              "<Figure size 621.941x451.5 with 1 Axes>"
            ],
            "image/png": "[encoded data removed]"
          },
          "metadata": {},
          "execution_count": 19
        }
      ]
    },
    {
      "cell_type": "markdown",
      "source": [
        "# Medindo expressibilidade e emaranhamento dos circuitos"
      ],
      "metadata": {
        "id": "XevrAx55wx9L"
      }
    },
    {
      "cell_type": "code",
      "source": [
        "# Function to generate a random unitary matrix\n",
        "def random_unitary(dim):\n",
        "    \"\"\"Generate a random unitary matrix of dimension dim using QR decomposition.\"\"\"\n",
        "    Z = np.random.randn(dim, dim) + 1j * np.random.randn(dim, dim)\n",
        "    Q, R = np.linalg.qr(Z)\n",
        "    d = np.diagonal(R)\n",
        "    Q *= d / np.abs(d)\n",
        "    return Q\n",
        "\n",
        "# Haar Integral Calculation\n",
        "def haar_integral(num_qubits, samples):\n",
        "    \"\"\"\n",
        "    Return the calculation of Haar Integral for a specified number of samples.\n",
        "    \"\"\"\n",
        "    N = 2 ** num_qubits\n",
        "    randunit_density = np.zeros((N, N), dtype=complex)\n",
        "\n",
        "    zero_state = np.zeros(N, dtype=complex)\n",
        "    zero_state[0] = 1\n",
        "\n",
        "    for _ in tqdm(range(samples), desc=\"Calculando Haar Integral\"):\n",
        "        # Generate random unitary\n",
        "        unitary = random_unitary(N)\n",
        "        # Apply unitary to the zero state\n",
        "        A = np.matmul(zero_state, unitary).reshape(-1, 1)\n",
        "        # Accumulate density matrix\n",
        "        randunit_density += np.kron(A, A.conj().T)\n",
        "\n",
        "    # Normalize by number of samples\n",
        "    randunit_density /= samples\n",
        "    return randunit_density\n",
        "\n",
        "# PQC Integral Calculation\n",
        "def pqc_integral(num_qubits, ansatze, size, samples):\n",
        "    \"\"\"\n",
        "    Return the calculation of Integral for a PQC over uniformly sampled\n",
        "    parameters θ for the specified number of samples.\n",
        "    \"\"\"\n",
        "    N = num_qubits\n",
        "    randunit_density = np.zeros((2 ** N, 2 ** N), dtype=complex)\n",
        "\n",
        "    for _ in  tqdm(range(samples), desc=\"Calculando PQC Integral\"):\n",
        "        # Sample random parameters\n",
        "        params = np.random.uniform(-np.pi, np.pi, size)\n",
        "        # Create the ansatz circuit with the given parameters\n",
        "        ansatz = ansatze(params)\n",
        "        # Simulate the circuit to get the statevector\n",
        "        statevector = Statevector.from_instruction(transpile(ansatz, Aer.get_backend(\"qasm_simulator\")))\n",
        "        # Reshape statevector to column vector\n",
        "        U = statevector.data.reshape(-1, 1)\n",
        "        # Accumulate density matrix\n",
        "        randunit_density += np.kron(U, U.conj().T)\n",
        "\n",
        "    # Normalize by number of samples\n",
        "    return randunit_density / samples\n"
      ],
      "metadata": {
        "id": "DL5DTTtPwtwJ"
      },
      "execution_count": 21,
      "outputs": []
    },
    {
      "cell_type": "code",
      "execution_count": 22,
      "metadata": {
        "colab": {
          "base_uri": "https://localhost:8080/"
        },
        "id": "U0tE6ch3tMeG",
        "outputId": "b2b1888c-64fd-44cd-f8f3-70f97646d304"
      },
      "outputs": [
        {
          "output_type": "stream",
          "name": "stderr",
          "text": [
            "Calculando Haar Integral: 100%|██████████| 2048/2048 [00:00<00:00, 9728.20it/s] \n",
            "Calculando PQC Integral: 100%|██████████| 2048/2048 [00:07<00:00, 260.79it/s]\n"
          ]
        },
        {
          "output_type": "execute_result",
          "data": {
            "text/plain": [
              "0.028383602646747778"
            ]
          },
          "metadata": {},
          "execution_count": 22
        }
      ],
      "source": [
        "np.linalg.norm(haar_integral(num_qubits, 2048) - pqc_integral(num_qubits, ansatz1, 4, 2048))"
      ]
    },
    {
      "cell_type": "code",
      "execution_count": 23,
      "metadata": {
        "colab": {
          "base_uri": "https://localhost:8080/"
        },
        "id": "gfNeIxtFuySU",
        "outputId": "aaf18641-520b-445e-9d95-c04eceb63cd9"
      },
      "outputs": [
        {
          "output_type": "stream",
          "name": "stderr",
          "text": [
            "Calculando Haar Integral: 100%|██████████| 2048/2048 [00:00<00:00, 9936.73it/s]\n",
            "Calculando PQC Integral: 100%|██████████| 2048/2048 [00:07<00:00, 257.11it/s]\n"
          ]
        },
        {
          "output_type": "execute_result",
          "data": {
            "text/plain": [
              "0.030036804633272882"
            ]
          },
          "metadata": {},
          "execution_count": 23
        }
      ],
      "source": [
        "np.linalg.norm(haar_integral(num_qubits, 2048) - pqc_integral(num_qubits, ansatz2, 8, 2048))"
      ]
    },
    {
      "cell_type": "code",
      "execution_count": 24,
      "metadata": {
        "colab": {
          "base_uri": "https://localhost:8080/"
        },
        "id": "mrQU6jK9u6Tf",
        "outputId": "4f1df0ff-a51d-4152-f405-1f908e0641b7"
      },
      "outputs": [
        {
          "output_type": "stream",
          "name": "stderr",
          "text": [
            "Calculando Haar Integral: 100%|██████████| 2048/2048 [00:00<00:00, 9187.00it/s]\n",
            "Calculando PQC Integral: 100%|██████████| 2048/2048 [00:25<00:00, 81.46it/s] \n"
          ]
        },
        {
          "output_type": "execute_result",
          "data": {
            "text/plain": [
              "0.030521999015187287"
            ]
          },
          "metadata": {},
          "execution_count": 24
        }
      ],
      "source": [
        "np.linalg.norm(haar_integral(num_qubits, 2048) - pqc_integral(num_qubits, ansatz3, 28, 2048))"
      ]
    },
    {
      "cell_type": "code",
      "source": [
        "np.linalg.norm(haar_integral(num_qubits, 2048) - pqc_integral(num_qubits, ansatz4, 28, 2048))"
      ],
      "metadata": {
        "colab": {
          "base_uri": "https://localhost:8080/"
        },
        "id": "0DSXh7K5xaC2",
        "outputId": "f59267f2-b750-499d-e1b4-c211d3cf4978"
      },
      "execution_count": 25,
      "outputs": [
        {
          "output_type": "stream",
          "name": "stderr",
          "text": [
            "Calculando Haar Integral: 100%|██████████| 2048/2048 [00:00<00:00, 9114.85it/s]\n",
            "Calculando PQC Integral: 100%|██████████| 2048/2048 [00:25<00:00, 81.01it/s]\n"
          ]
        },
        {
          "output_type": "execute_result",
          "data": {
            "text/plain": [
              "0.03133302143323386"
            ]
          },
          "metadata": {},
          "execution_count": 25
        }
      ]
    },
    {
      "cell_type": "code",
      "source": [
        "np.linalg.norm(haar_integral(num_qubits, 2048) - pqc_integral(num_qubits, ansatz5, 11, 2048))"
      ],
      "metadata": {
        "colab": {
          "base_uri": "https://localhost:8080/"
        },
        "id": "ro64Ef5WxaqG",
        "outputId": "25233a98-ba65-4217-87df-efd2f23c70c7"
      },
      "execution_count": 26,
      "outputs": [
        {
          "output_type": "stream",
          "name": "stderr",
          "text": [
            "Calculando Haar Integral: 100%|██████████| 2048/2048 [00:00<00:00, 8465.12it/s]\n",
            "Calculando PQC Integral: 100%|██████████| 2048/2048 [00:13<00:00, 153.27it/s]\n"
          ]
        },
        {
          "output_type": "execute_result",
          "data": {
            "text/plain": [
              "0.02707188817626998"
            ]
          },
          "metadata": {},
          "execution_count": 26
        }
      ]
    },
    {
      "cell_type": "code",
      "source": [
        "np.linalg.norm(haar_integral(num_qubits, 2048) - pqc_integral(num_qubits, ansatz6, 12, 2048))"
      ],
      "metadata": {
        "colab": {
          "base_uri": "https://localhost:8080/"
        },
        "id": "8KyS0p8jxcfO",
        "outputId": "842a910a-29e1-474e-f622-691bb0c4a23b"
      },
      "execution_count": 27,
      "outputs": [
        {
          "output_type": "stream",
          "name": "stderr",
          "text": [
            "Calculando Haar Integral: 100%|██████████| 2048/2048 [00:00<00:00, 6213.53it/s]\n",
            "Calculando PQC Integral: 100%|██████████| 2048/2048 [00:11<00:00, 179.28it/s]\n"
          ]
        },
        {
          "output_type": "execute_result",
          "data": {
            "text/plain": [
              "0.030003376380786064"
            ]
          },
          "metadata": {},
          "execution_count": 27
        }
      ]
    },
    {
      "cell_type": "code",
      "source": [
        "np.linalg.norm(haar_integral(num_qubits, 2048) - pqc_integral(num_qubits, ansatz7, 11, 2048))"
      ],
      "metadata": {
        "colab": {
          "base_uri": "https://localhost:8080/"
        },
        "id": "s8C_0HFZxdOO",
        "outputId": "c5c1e44d-54a1-4d8b-aabf-5f21e4ae4f93"
      },
      "execution_count": 28,
      "outputs": [
        {
          "output_type": "stream",
          "name": "stderr",
          "text": [
            "Calculando Haar Integral: 100%|██████████| 2048/2048 [00:00<00:00, 10515.39it/s]\n",
            "Calculando PQC Integral: 100%|██████████| 2048/2048 [00:12<00:00, 164.41it/s]\n"
          ]
        },
        {
          "output_type": "execute_result",
          "data": {
            "text/plain": [
              "0.029771707985923358"
            ]
          },
          "metadata": {},
          "execution_count": 28
        }
      ]
    },
    {
      "cell_type": "code",
      "source": [
        "np.linalg.norm(haar_integral(num_qubits, 2048) - pqc_integral(num_qubits, ansatz8, 8, 2048))"
      ],
      "metadata": {
        "colab": {
          "base_uri": "https://localhost:8080/"
        },
        "id": "krvTHtgbxd6-",
        "outputId": "b61086dd-a822-4fd4-cff3-a82b245f1d18"
      },
      "execution_count": 29,
      "outputs": [
        {
          "output_type": "stream",
          "name": "stderr",
          "text": [
            "Calculando Haar Integral: 100%|██████████| 2048/2048 [00:00<00:00, 6082.84it/s]\n",
            "Calculando PQC Integral: 100%|██████████| 2048/2048 [00:08<00:00, 237.09it/s]\n"
          ]
        },
        {
          "output_type": "execute_result",
          "data": {
            "text/plain": [
              "0.03116213698405726"
            ]
          },
          "metadata": {},
          "execution_count": 29
        }
      ]
    },
    {
      "cell_type": "code",
      "source": [
        "np.linalg.norm(haar_integral(num_qubits, 2048) - pqc_integral(num_qubits, ansatz9, 12, 2048))"
      ],
      "metadata": {
        "colab": {
          "base_uri": "https://localhost:8080/"
        },
        "id": "3gSNpmv4xem3",
        "outputId": "a38dcdcf-8772-4d77-a564-8346c4c11675"
      },
      "execution_count": 30,
      "outputs": [
        {
          "output_type": "stream",
          "name": "stderr",
          "text": [
            "Calculando Haar Integral: 100%|██████████| 2048/2048 [00:00<00:00, 8389.62it/s]\n",
            "Calculando PQC Integral: 100%|██████████| 2048/2048 [00:10<00:00, 204.61it/s]\n"
          ]
        },
        {
          "output_type": "execute_result",
          "data": {
            "text/plain": [
              "0.03065114915199148"
            ]
          },
          "metadata": {},
          "execution_count": 30
        }
      ]
    },
    {
      "cell_type": "code",
      "source": [
        "np.linalg.norm(haar_integral(num_qubits, 2048) - pqc_integral(num_qubits, ansatz10, 12, 2048))"
      ],
      "metadata": {
        "colab": {
          "base_uri": "https://localhost:8080/"
        },
        "id": "i3AJSZJvxYBe",
        "outputId": "228a2316-b11c-4657-deb7-9f6129696c27"
      },
      "execution_count": 31,
      "outputs": [
        {
          "output_type": "stream",
          "name": "stderr",
          "text": [
            "Calculando Haar Integral: 100%|██████████| 2048/2048 [00:00<00:00, 10253.76it/s]\n",
            "Calculando PQC Integral: 100%|██████████| 2048/2048 [00:15<00:00, 130.48it/s]\n"
          ]
        },
        {
          "output_type": "execute_result",
          "data": {
            "text/plain": [
              "0.029941394047440343"
            ]
          },
          "metadata": {},
          "execution_count": 31
        }
      ]
    },
    {
      "cell_type": "code",
      "execution_count": 35,
      "metadata": {
        "id": "_ceEnsgBtwT3"
      },
      "outputs": [],
      "source": [
        "def meyer_wallach(circuit, num_qubits, size, sample=1024):\n",
        "\n",
        "    \"\"\"\n",
        "\n",
        "        Returns the meyer-wallach entanglement measure for the given circuit.\n",
        "\n",
        "    \"\"\"\n",
        "\n",
        "\n",
        "    res = np.zeros(sample, dtype=complex)\n",
        "\n",
        "    N = num_qubits\n",
        "\n",
        "\n",
        "    for i in range(sample):\n",
        "\n",
        "        params = np.random.uniform(-np.pi, np.pi, size)\n",
        "\n",
        "        ansatz = circuit(params)\n",
        "\n",
        "        result = execute(ansatz,\n",
        "\n",
        "                       backend=BasicAer.get_backend('statevector_simulator')).result()\n",
        "\n",
        "        U = result.get_statevector(ansatz, decimals=5)\n",
        "\n",
        "        entropy = 0\n",
        "\n",
        "        qb = list(range(N))\n",
        "\n",
        "\n",
        "        for j in range(N):\n",
        "\n",
        "            dens = qiskit.quantum_info.partial_trace(U, qb[:j]+qb[j+1:]).data\n",
        "\n",
        "            trace = np.trace(dens**2)\n",
        "\n",
        "            entropy += trace\n",
        "\n",
        "\n",
        "        entropy /= N\n",
        "\n",
        "        res[i] = 1 - entropy\n",
        "\n",
        "\n",
        "\n",
        "    return 2*np.sum(res).real/sample"
      ]
    },
    {
      "cell_type": "code",
      "execution_count": 38,
      "metadata": {
        "colab": {
          "base_uri": "https://localhost:8080/"
        },
        "id": "zUDX366it0v4",
        "outputId": "d92e4212-d26b-4f1d-ec9f-2e1143b81b7a"
      },
      "outputs": [
        {
          "output_type": "stream",
          "name": "stderr",
          "text": [
            "<ipython-input-35-627c91265e0d>:21: DeprecationWarning: The function ``qiskit.execute_function.execute()`` is deprecated as of qiskit 0.46.0. It will be removed in the Qiskit 1.0 release. This function combines ``transpile`` and ``backend.run``, which is covered by ``Sampler`` :mod:`~qiskit.primitives`. Alternatively, you can also run :func:`.transpile` followed by ``backend.run()``.\n",
            "  result = execute(ansatz,\n"
          ]
        },
        {
          "output_type": "execute_result",
          "data": {
            "text/plain": [
              "1.000000146185986"
            ]
          },
          "metadata": {},
          "execution_count": 38
        }
      ],
      "source": [
        "meyer_wallach(ansatz1, num_qubits, 4)"
      ]
    },
    {
      "cell_type": "code",
      "execution_count": 39,
      "metadata": {
        "colab": {
          "base_uri": "https://localhost:8080/"
        },
        "id": "NNOsu8OLt12o",
        "outputId": "19396088-dd47-42b9-b51c-6711c90faac3"
      },
      "outputs": [
        {
          "output_type": "stream",
          "name": "stderr",
          "text": [
            "<ipython-input-35-627c91265e0d>:21: DeprecationWarning: The function ``qiskit.execute_function.execute()`` is deprecated as of qiskit 0.46.0. It will be removed in the Qiskit 1.0 release. This function combines ``transpile`` and ``backend.run``, which is covered by ``Sampler`` :mod:`~qiskit.primitives`. Alternatively, you can also run :func:`.transpile` followed by ``backend.run()``.\n",
            "  result = execute(ansatz,\n"
          ]
        },
        {
          "output_type": "execute_result",
          "data": {
            "text/plain": [
              "0.5034274065424267"
            ]
          },
          "metadata": {},
          "execution_count": 39
        }
      ],
      "source": [
        "meyer_wallach(ansatz2, num_qubits, 8)"
      ]
    },
    {
      "cell_type": "code",
      "execution_count": 40,
      "metadata": {
        "colab": {
          "base_uri": "https://localhost:8080/"
        },
        "id": "K2ghq_6NuRW4",
        "outputId": "17d0e7c7-48cb-4041-8d2c-4549ead9b0be"
      },
      "outputs": [
        {
          "output_type": "stream",
          "name": "stderr",
          "text": [
            "<ipython-input-35-627c91265e0d>:21: DeprecationWarning: The function ``qiskit.execute_function.execute()`` is deprecated as of qiskit 0.46.0. It will be removed in the Qiskit 1.0 release. This function combines ``transpile`` and ``backend.run``, which is covered by ``Sampler`` :mod:`~qiskit.primitives`. Alternatively, you can also run :func:`.transpile` followed by ``backend.run()``.\n",
            "  result = execute(ansatz,\n"
          ]
        },
        {
          "output_type": "execute_result",
          "data": {
            "text/plain": [
              "0.7070131168256806"
            ]
          },
          "metadata": {},
          "execution_count": 40
        }
      ],
      "source": [
        "meyer_wallach(ansatz3, num_qubits, 28)"
      ]
    },
    {
      "cell_type": "code",
      "execution_count": 41,
      "metadata": {
        "id": "GaWhyNbYuSOY",
        "colab": {
          "base_uri": "https://localhost:8080/"
        },
        "outputId": "ea35419f-8aa6-492b-a5d7-73ac8272afb7"
      },
      "outputs": [
        {
          "output_type": "stream",
          "name": "stderr",
          "text": [
            "<ipython-input-35-627c91265e0d>:21: DeprecationWarning: The function ``qiskit.execute_function.execute()`` is deprecated as of qiskit 0.46.0. It will be removed in the Qiskit 1.0 release. This function combines ``transpile`` and ``backend.run``, which is covered by ``Sampler`` :mod:`~qiskit.primitives`. Alternatively, you can also run :func:`.transpile` followed by ``backend.run()``.\n",
            "  result = execute(ansatz,\n"
          ]
        },
        {
          "output_type": "execute_result",
          "data": {
            "text/plain": [
              "0.8793025653702429"
            ]
          },
          "metadata": {},
          "execution_count": 41
        }
      ],
      "source": [
        "meyer_wallach(ansatz4, num_qubits, 28)"
      ]
    },
    {
      "cell_type": "code",
      "source": [
        "meyer_wallach(ansatz5, num_qubits, 11)"
      ],
      "metadata": {
        "colab": {
          "base_uri": "https://localhost:8080/"
        },
        "id": "uKmd3MLvywV8",
        "outputId": "fc99f4f5-4559-41e2-ad1e-44359ba75cb0"
      },
      "execution_count": 42,
      "outputs": [
        {
          "output_type": "stream",
          "name": "stderr",
          "text": [
            "<ipython-input-35-627c91265e0d>:21: DeprecationWarning: The function ``qiskit.execute_function.execute()`` is deprecated as of qiskit 0.46.0. It will be removed in the Qiskit 1.0 release. This function combines ``transpile`` and ``backend.run``, which is covered by ``Sampler`` :mod:`~qiskit.primitives`. Alternatively, you can also run :func:`.transpile` followed by ``backend.run()``.\n",
            "  result = execute(ansatz,\n"
          ]
        },
        {
          "output_type": "execute_result",
          "data": {
            "text/plain": [
              "0.6442802670715869"
            ]
          },
          "metadata": {},
          "execution_count": 42
        }
      ]
    },
    {
      "cell_type": "code",
      "source": [
        "meyer_wallach(ansatz6, num_qubits, 12)"
      ],
      "metadata": {
        "colab": {
          "base_uri": "https://localhost:8080/"
        },
        "id": "wpgd1Mocyw67",
        "outputId": "208ec178-9645-44c7-ff44-0fbffb149163"
      },
      "execution_count": 43,
      "outputs": [
        {
          "output_type": "stream",
          "name": "stderr",
          "text": [
            "<ipython-input-35-627c91265e0d>:21: DeprecationWarning: The function ``qiskit.execute_function.execute()`` is deprecated as of qiskit 0.46.0. It will be removed in the Qiskit 1.0 release. This function combines ``transpile`` and ``backend.run``, which is covered by ``Sampler`` :mod:`~qiskit.primitives`. Alternatively, you can also run :func:`.transpile` followed by ``backend.run()``.\n",
            "  result = execute(ansatz,\n"
          ]
        },
        {
          "output_type": "execute_result",
          "data": {
            "text/plain": [
              "0.7331270436807225"
            ]
          },
          "metadata": {},
          "execution_count": 43
        }
      ]
    },
    {
      "cell_type": "code",
      "source": [
        "meyer_wallach(ansatz7, num_qubits, 11)"
      ],
      "metadata": {
        "colab": {
          "base_uri": "https://localhost:8080/"
        },
        "id": "Id_qYKHiyyOj",
        "outputId": "6f7dc69f-32c4-4df2-f598-9a644d79d20d"
      },
      "execution_count": 44,
      "outputs": [
        {
          "output_type": "stream",
          "name": "stderr",
          "text": [
            "<ipython-input-35-627c91265e0d>:21: DeprecationWarning: The function ``qiskit.execute_function.execute()`` is deprecated as of qiskit 0.46.0. It will be removed in the Qiskit 1.0 release. This function combines ``transpile`` and ``backend.run``, which is covered by ``Sampler`` :mod:`~qiskit.primitives`. Alternatively, you can also run :func:`.transpile` followed by ``backend.run()``.\n",
            "  result = execute(ansatz,\n"
          ]
        },
        {
          "output_type": "execute_result",
          "data": {
            "text/plain": [
              "0.5024786381405257"
            ]
          },
          "metadata": {},
          "execution_count": 44
        }
      ]
    },
    {
      "cell_type": "code",
      "source": [
        "meyer_wallach(ansatz8, num_qubits, 8)"
      ],
      "metadata": {
        "colab": {
          "base_uri": "https://localhost:8080/"
        },
        "id": "vCq5q3DayyjD",
        "outputId": "cc08f399-ad8a-4d99-d10b-385063c48713"
      },
      "execution_count": 45,
      "outputs": [
        {
          "output_type": "stream",
          "name": "stderr",
          "text": [
            "<ipython-input-35-627c91265e0d>:21: DeprecationWarning: The function ``qiskit.execute_function.execute()`` is deprecated as of qiskit 0.46.0. It will be removed in the Qiskit 1.0 release. This function combines ``transpile`` and ``backend.run``, which is covered by ``Sampler`` :mod:`~qiskit.primitives`. Alternatively, you can also run :func:`.transpile` followed by ``backend.run()``.\n",
            "  result = execute(ansatz,\n"
          ]
        },
        {
          "output_type": "execute_result",
          "data": {
            "text/plain": [
              "0.7657803206590713"
            ]
          },
          "metadata": {},
          "execution_count": 45
        }
      ]
    },
    {
      "cell_type": "code",
      "source": [
        "meyer_wallach(ansatz9, num_qubits, 12)"
      ],
      "metadata": {
        "colab": {
          "base_uri": "https://localhost:8080/"
        },
        "id": "LUWFkZsoyyyr",
        "outputId": "7c7a5f5e-046d-4746-8900-a71c63bf7bb1"
      },
      "execution_count": 46,
      "outputs": [
        {
          "output_type": "stream",
          "name": "stderr",
          "text": [
            "<ipython-input-35-627c91265e0d>:21: DeprecationWarning: The function ``qiskit.execute_function.execute()`` is deprecated as of qiskit 0.46.0. It will be removed in the Qiskit 1.0 release. This function combines ``transpile`` and ``backend.run``, which is covered by ``Sampler`` :mod:`~qiskit.primitives`. Alternatively, you can also run :func:`.transpile` followed by ``backend.run()``.\n",
            "  result = execute(ansatz,\n"
          ]
        },
        {
          "output_type": "execute_result",
          "data": {
            "text/plain": [
              "0.5987015572896541"
            ]
          },
          "metadata": {},
          "execution_count": 46
        }
      ]
    },
    {
      "cell_type": "code",
      "source": [
        "meyer_wallach(ansatz10, num_qubits, 12)"
      ],
      "metadata": {
        "colab": {
          "base_uri": "https://localhost:8080/"
        },
        "id": "rUYGpt02yzDr",
        "outputId": "fa07388c-8540-4c28-c18f-ad3607863899"
      },
      "execution_count": 47,
      "outputs": [
        {
          "output_type": "stream",
          "name": "stderr",
          "text": [
            "<ipython-input-35-627c91265e0d>:21: DeprecationWarning: The function ``qiskit.execute_function.execute()`` is deprecated as of qiskit 0.46.0. It will be removed in the Qiskit 1.0 release. This function combines ``transpile`` and ``backend.run``, which is covered by ``Sampler`` :mod:`~qiskit.primitives`. Alternatively, you can also run :func:`.transpile` followed by ``backend.run()``.\n",
            "  result = execute(ansatz,\n"
          ]
        },
        {
          "output_type": "execute_result",
          "data": {
            "text/plain": [
              "0.496626858317099"
            ]
          },
          "metadata": {},
          "execution_count": 47
        }
      ]
    }
  ],
  "metadata": {
    "colab": {
      "provenance": [],
      "include_colab_link": true
    },
    "kernelspec": {
      "display_name": "Python 3",
      "name": "python3"
    },
    "language_info": {
      "name": "python"
    }
  },
  "nbformat": 4,
  "nbformat_minor": 0
}